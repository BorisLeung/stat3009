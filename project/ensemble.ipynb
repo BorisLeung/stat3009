{
 "cells": [
  {
   "cell_type": "code",
   "execution_count": 20,
   "metadata": {},
   "outputs": [],
   "source": [
    "import pandas as pd\n",
    "\n",
    "import os\n",
    "\n",
    "DATA_DIR = \"data\"\n",
    "train_data = pd.read_csv(os.path.join(DATA_DIR, \"train.csv\"))\n",
    "X = pd.read_csv(os.path.join(DATA_DIR, \"test.csv\"))"
   ]
  },
  {
   "cell_type": "code",
   "execution_count": 21,
   "metadata": {},
   "outputs": [],
   "source": [
    "from surprise import Dataset, Reader\n",
    "\n",
    "reader = Reader(rating_scale=(0, 10))\n",
    "data = Dataset.load_from_df(train_data, reader)"
   ]
  },
  {
   "cell_type": "code",
   "execution_count": 22,
   "metadata": {},
   "outputs": [],
   "source": [
    "from surprise.model_selection import train_test_split\n",
    "\n",
    "trainset, testset = train_test_split(data, test_size=0.25)"
   ]
  },
  {
   "cell_type": "code",
   "execution_count": 23,
   "metadata": {},
   "outputs": [
    {
     "data": {
      "text/plain": [
       "<surprise.prediction_algorithms.matrix_factorization.SVDpp at 0x13a394790>"
      ]
     },
     "execution_count": 23,
     "metadata": {},
     "output_type": "execute_result"
    }
   ],
   "source": [
    "from surprise import SVDpp\n",
    "\n",
    "svdpp = SVDpp(\n",
    "    n_factors=150, n_epochs=250, lr_all=0.047, reg_all=0.01, cache_ratings=True\n",
    ")\n",
    "svdpp.fit(trainset)"
   ]
  },
  {
   "cell_type": "code",
   "execution_count": 6,
   "metadata": {},
   "outputs": [
    {
     "name": "stdout",
     "output_type": "stream",
     "text": [
      "RMSE: 0.7666\n"
     ]
    },
    {
     "data": {
      "text/plain": [
       "0.7665889798987596"
      ]
     },
     "execution_count": 6,
     "metadata": {},
     "output_type": "execute_result"
    }
   ],
   "source": [
    "from surprise import accuracy\n",
    "\n",
    "accuracy.rmse(svdpp.test(testset))"
   ]
  },
  {
   "cell_type": "code",
   "execution_count": 7,
   "metadata": {},
   "outputs": [
    {
     "data": {
      "text/plain": [
       "<surprise.prediction_algorithms.matrix_factorization.SVDpp at 0x13a512290>"
      ]
     },
     "execution_count": 7,
     "metadata": {},
     "output_type": "execute_result"
    }
   ],
   "source": [
    "from surprise import SVD\n",
    "\n",
    "svd = SVDpp(n_factors=50, n_epochs=2500, lr_all=0.002, reg_all=0.2)\n",
    "svd.fit(trainset)"
   ]
  },
  {
   "cell_type": "code",
   "execution_count": 8,
   "metadata": {},
   "outputs": [
    {
     "name": "stdout",
     "output_type": "stream",
     "text": [
      "RMSE: 0.7476\n"
     ]
    },
    {
     "data": {
      "text/plain": [
       "0.7476284136876696"
      ]
     },
     "execution_count": 8,
     "metadata": {},
     "output_type": "execute_result"
    }
   ],
   "source": [
    "accuracy.rmse(svd.test(testset))"
   ]
  },
  {
   "cell_type": "code",
   "execution_count": 19,
   "metadata": {},
   "outputs": [
    {
     "data": {
      "text/plain": [
       "0.7468569747500935"
      ]
     },
     "execution_count": 19,
     "metadata": {},
     "output_type": "execute_result"
    }
   ],
   "source": [
    "import numpy as np\n",
    "\n",
    "predictions = []\n",
    "true_ratings = []\n",
    "\n",
    "weights = [0.2, 0.8]\n",
    "for user_id, item_id, rating in testset:\n",
    "    prediction = (\n",
    "        svdpp.predict(user_id, item_id).est * weights[0]\n",
    "        + svd.predict(user_id, item_id).est * weights[1]\n",
    "    )\n",
    "    predictions.append(prediction)\n",
    "    true_ratings.append(rating)\n",
    "\n",
    "rmse = np.sqrt(((np.array(predictions) - np.array(true_ratings)) ** 2).mean())\n",
    "rmse"
   ]
  },
  {
   "cell_type": "code",
   "execution_count": 3,
   "metadata": {},
   "outputs": [],
   "source": [
    "# svdPP + svd\n",
    "import pandas as pd\n",
    "\n",
    "svdpp = pd.read_csv(\"predictions/svdpp_1.csv\")\n",
    "svd = pd.read_csv(\"predictions/svd_1.csv\")\n",
    "\n",
    "# public score: 0.66472\n",
    "new_values = (svdpp[\"rating\"].values + svd[\"rating\"].values) / 2\n",
    "svdpp[\"rating\"] = new_values\n",
    "svdpp.to_csv(\"svd_1+svdpp_1.csv\", index=False)"
   ]
  }
 ],
 "metadata": {
  "kernelspec": {
   "display_name": "stat3009",
   "language": "python",
   "name": "python3"
  },
  "language_info": {
   "codemirror_mode": {
    "name": "ipython",
    "version": 3
   },
   "file_extension": ".py",
   "mimetype": "text/x-python",
   "name": "python",
   "nbconvert_exporter": "python",
   "pygments_lexer": "ipython3",
   "version": "3.12.0"
  }
 },
 "nbformat": 4,
 "nbformat_minor": 2
}
