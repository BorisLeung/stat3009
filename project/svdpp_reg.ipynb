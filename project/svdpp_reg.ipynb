{
 "cells": [
  {
   "cell_type": "code",
   "execution_count": 1,
   "metadata": {},
   "outputs": [],
   "source": [
    "import pandas as pd\n",
    "from surprise import Dataset, Reader\n",
    "from surprise.prediction_algorithms.matrix_factorization import SVDpp\n",
    "\n",
    "import os\n",
    "\n",
    "DATA_DIR = \"data\"\n",
    "train_data = pd.read_csv(os.path.join(DATA_DIR, \"train.csv\"))\n",
    "X = pd.read_csv(os.path.join(DATA_DIR, \"test.csv\"))\n",
    "\n",
    "reader = Reader(rating_scale=(0, 10))\n",
    "data = Dataset.load_from_df(train_data, reader)\n",
    "full_train_data = data.build_full_trainset()"
   ]
  },
  {
   "cell_type": "code",
   "execution_count": 9,
   "metadata": {},
   "outputs": [
    {
     "name": "stderr",
     "output_type": "stream",
     "text": [
      "[Parallel(n_jobs=-1)]: Using backend LokyBackend with 8 concurrent workers.\n",
      "[Parallel(n_jobs=-1)]: Done   2 tasks      | elapsed:    7.0s\n",
      "[Parallel(n_jobs=-1)]: Done  56 tasks      | elapsed:   53.2s\n",
      "[Parallel(n_jobs=-1)]: Done 146 tasks      | elapsed:  2.6min\n",
      "[Parallel(n_jobs=-1)]: Done 272 tasks      | elapsed:  4.7min\n",
      "[Parallel(n_jobs=-1)]: Done 434 tasks      | elapsed:  7.5min\n",
      "[Parallel(n_jobs=-1)]: Done 632 tasks      | elapsed: 10.7min\n"
     ]
    },
    {
     "name": "stdout",
     "output_type": "stream",
     "text": [
      "0.666664041934693\n",
      "{'rmse': {'n_epochs': 531, 'n_factors': 1, 'cache_ratings': True, 'lr_bi': 0.022103729193167332, 'lr_bu': 5.964210634776729e-05, 'lr_pu': 0.0024279870152229197, 'lr_qi': 0.0015257756139312275, 'lr_yj': 0.0025538838921406533, 'reg_bi': -0.00027143677945660625, 'reg_bu': 0.0015210497941112663, 'reg_pu': 1.7668113905419636e-05, 'reg_qi': 0.0030026717984680497, 'reg_yj': 0.0014833009888479895, 'init_mean': -0.1578947368421053, 'init_std_dev': 0.1}}\n"
     ]
    },
    {
     "name": "stderr",
     "output_type": "stream",
     "text": [
      "[Parallel(n_jobs=-1)]: Done 800 out of 800 | elapsed: 13.6min finished\n"
     ]
    }
   ],
   "source": [
    "import numpy as np\n",
    "import scipy.stats as st\n",
    "from surprise.model_selection import GridSearchCV\n",
    "from surprise import SVDpp\n",
    "\n",
    "FOLD = 4\n",
    "param_grid = {\n",
    "    \"n_epochs\": [531],\n",
    "    \"n_factors\": [1],\n",
    "    \"cache_ratings\": [True],\n",
    "    \"lr_bi\": [0.022103729193167332],\n",
    "    \"lr_bu\": [5.964210634776729e-05],\n",
    "    \"lr_pu\": [0.0024279870152229197],\n",
    "    \"lr_qi\": [0.0015257756139312275],\n",
    "    \"lr_yj\": [0.0025538838921406533],\n",
    "    \"reg_bi\": [-0.000271436779456606252],\n",
    "    \"reg_bu\": [0.0015210497941112663],\n",
    "    \"reg_pu\": [1.7668113905419636e-05],\n",
    "    \"reg_qi\": [0.0030026717984680497],\n",
    "    \"reg_yj\": [0.0014833009888479895],\n",
    "    \"init_mean\": np.linspace(-1, 1, 20),\n",
    "    \"init_std_dev\": np.linspace(0.1, 1, 10),\n",
    "}\n",
    "\n",
    "rs = GridSearchCV(\n",
    "    SVDpp, param_grid, measures=[\"rmse\"], cv=FOLD, n_jobs=-1, joblib_verbose=5\n",
    ")\n",
    "rs.fit(data)\n",
    "print(rs.best_score[\"rmse\"])\n",
    "print(rs.best_params)"
   ]
  },
  {
   "cell_type": "code",
   "execution_count": 12,
   "metadata": {},
   "outputs": [
    {
     "name": "stderr",
     "output_type": "stream",
     "text": [
      "[Parallel(n_jobs=-1)]: Using backend LokyBackend with 8 concurrent workers.\n",
      "[Parallel(n_jobs=-1)]: Done   2 tasks      | elapsed:    3.4s\n",
      "[Parallel(n_jobs=-1)]: Done  56 tasks      | elapsed:   20.7s\n",
      "[Parallel(n_jobs=-1)]: Done 146 tasks      | elapsed:   59.1s\n",
      "[Parallel(n_jobs=-1)]: Done 272 tasks      | elapsed:  1.9min\n",
      "[Parallel(n_jobs=-1)]: Done 434 tasks      | elapsed:  3.3min\n",
      "[Parallel(n_jobs=-1)]: Done 632 tasks      | elapsed:  4.9min\n",
      "[Parallel(n_jobs=-1)]: Done 866 tasks      | elapsed:  6.7min\n",
      "[Parallel(n_jobs=-1)]: Done 1136 tasks      | elapsed:  8.7min\n"
     ]
    },
    {
     "name": "stdout",
     "output_type": "stream",
     "text": [
      "0.6574157862154492\n",
      "{'rmse': {'cache_ratings': True, 'lr_bi': 0.014477713141555899, 'lr_bu': 4.274998978357359e-05, 'lr_pu': 0.0046089389950346085, 'lr_qi': 0.0015801266391564078, 'lr_yj': 0.002616185296350129, 'n_epochs': 200, 'n_factors': 1, 'reg_bi': -0.00025130079220361833, 'reg_bu': 0.0014858307111292178, 'reg_pu': 1.846631322934097e-05, 'reg_qi': 0.0017449972506546265, 'reg_yj': 0.00013693438506739134}}\n"
     ]
    },
    {
     "name": "stderr",
     "output_type": "stream",
     "text": [
      "[Parallel(n_jobs=-1)]: Done 1200 out of 1200 | elapsed:  9.2min finished\n"
     ]
    }
   ],
   "source": [
    "import numpy as np\n",
    "import scipy.stats as st\n",
    "from surprise.model_selection import GridSearchCV\n",
    "from surprise import SVDpp\n",
    "\n",
    "FOLD = 6\n",
    "# reg epochs\n",
    "param_grid = {\n",
    "    \"cache_ratings\": [True],\n",
    "    \"n_epochs\": [200],\n",
    "    \"n_factors\": [1],\n",
    "    \"lr_bi\": st.norm(0.01954, 0.006),\n",
    "    \"lr_bu\": st.norm(0.00006, 0.00002),\n",
    "    \"lr_pu\": st.norm(0.00309, 0.001),\n",
    "    \"lr_qi\": st.norm(0.00092, 0.0003),\n",
    "    \"lr_yj\": st.norm(0.00281791, 0.001),\n",
    "    \"reg_bi\": st.norm(-0.00027, 0.00009),\n",
    "    \"reg_bu\": st.norm(0.00138, 0.0004),\n",
    "    \"reg_pu\": st.norm(0.00002, 0.00000666666),\n",
    "    \"reg_qi\": st.norm(0.00293, 0.001),\n",
    "    \"reg_yj\": st.norm(0.00016986, 0.00005),\n",
    "}\n",
    "\n",
    "rs = RandomizedSearchCV(\n",
    "    SVDpp,\n",
    "    param_grid,\n",
    "    measures=[\"rmse\"],\n",
    "    cv=FOLD,\n",
    "    n_jobs=-1,\n",
    "    joblib_verbose=5,\n",
    "    n_iter=200,\n",
    ")\n",
    "rs.fit(data)\n",
    "print(rs.best_score[\"rmse\"])\n",
    "print(rs.best_params)"
   ]
  },
  {
   "cell_type": "code",
   "execution_count": 14,
   "metadata": {},
   "outputs": [
    {
     "name": "stderr",
     "output_type": "stream",
     "text": [
      "[Parallel(n_jobs=-1)]: Using backend LokyBackend with 8 concurrent workers.\n",
      "[Parallel(n_jobs=-1)]: Done   2 tasks      | elapsed:    1.3s\n",
      "[Parallel(n_jobs=-1)]: Done  56 tasks      | elapsed:    4.3s\n",
      "[Parallel(n_jobs=-1)]: Done 146 tasks      | elapsed:   11.7s\n",
      "[Parallel(n_jobs=-1)]: Done 272 tasks      | elapsed:   25.8s\n",
      "[Parallel(n_jobs=-1)]: Done 434 tasks      | elapsed:   52.2s\n",
      "[Parallel(n_jobs=-1)]: Done 632 tasks      | elapsed:  1.7min\n",
      "[Parallel(n_jobs=-1)]: Done 866 tasks      | elapsed:  3.0min\n",
      "[Parallel(n_jobs=-1)]: Done 1136 tasks      | elapsed:  4.9min\n",
      "[Parallel(n_jobs=-1)]: Done 1442 tasks      | elapsed:  7.4min\n",
      "[Parallel(n_jobs=-1)]: Done 1784 tasks      | elapsed: 10.8min\n",
      "[Parallel(n_jobs=-1)]: Done 2162 tasks      | elapsed: 15.3min\n",
      "[Parallel(n_jobs=-1)]: Done 2576 tasks      | elapsed: 21.0min\n"
     ]
    },
    {
     "name": "stdout",
     "output_type": "stream",
     "text": [
      "0.658981590365794\n",
      "{'rmse': {'cache_ratings': True, 'n_epochs': 402, 'n_factors': 1, 'lr_bi': 0.014477713141555899, 'lr_bu': 4.274998978357359e-05, 'lr_pu': 0.0046089389950346085, 'lr_qi': 0.0015801266391564078, 'lr_yj': 0.002616185296350129, 'reg_bi': -0.00025130079220361833, 'reg_bu': 0.0014858307111292178, 'reg_pu': 1.846631322934097e-05, 'reg_qi': 0.0017449972506546265, 'reg_yj': 0.00013693438506739134}}\n"
     ]
    },
    {
     "name": "stderr",
     "output_type": "stream",
     "text": [
      "[Parallel(n_jobs=-1)]: Done 3000 out of 3000 | elapsed: 27.8min finished\n"
     ]
    }
   ],
   "source": [
    "import numpy as np\n",
    "import scipy.stats as st\n",
    "from surprise.model_selection import GridSearchCV\n",
    "from surprise import SVDpp\n",
    "\n",
    "FOLD = 6\n",
    "# reg epochs\n",
    "param_grid = {\n",
    "    \"cache_ratings\": [True],\n",
    "    \"n_epochs\": np.arange(1, 501),\n",
    "    \"n_factors\": [1],\n",
    "    \"lr_bi\": [0.014477713141555899],\n",
    "    \"lr_bu\": [4.274998978357359e-05],\n",
    "    \"lr_pu\": [0.0046089389950346085],\n",
    "    \"lr_qi\": [0.0015801266391564078],\n",
    "    \"lr_yj\": [0.002616185296350129],\n",
    "    \"reg_bi\": [-0.00025130079220361833],\n",
    "    \"reg_bu\": [0.0014858307111292178],\n",
    "    \"reg_pu\": [1.846631322934097e-05],\n",
    "    \"reg_qi\": [0.0017449972506546265],\n",
    "    \"reg_yj\": [0.00013693438506739134],\n",
    "}\n",
    "\n",
    "rs = GridSearchCV(\n",
    "    SVDpp, param_grid, measures=[\"rmse\"], cv=FOLD, n_jobs=-1, joblib_verbose=5\n",
    ")\n",
    "rs.fit(data)\n",
    "print(rs.best_score[\"rmse\"])\n",
    "print(rs.best_params)"
   ]
  },
  {
   "cell_type": "code",
   "execution_count": 17,
   "metadata": {},
   "outputs": [
    {
     "name": "stderr",
     "output_type": "stream",
     "text": [
      "[Parallel(n_jobs=-1)]: Using backend LokyBackend with 8 concurrent workers.\n",
      "[Parallel(n_jobs=-1)]: Done   2 tasks      | elapsed:    4.5s\n",
      "[Parallel(n_jobs=-1)]: Done  56 tasks      | elapsed:  3.5min\n",
      "[Parallel(n_jobs=-1)]: Done 146 tasks      | elapsed: 12.5min\n",
      "[Parallel(n_jobs=-1)]: Done 272 tasks      | elapsed: 24.6min\n",
      "[Parallel(n_jobs=-1)]: Done 434 tasks      | elapsed: 39.0min\n",
      "[Parallel(n_jobs=-1)]: Done 632 tasks      | elapsed: 56.2min\n",
      "[Parallel(n_jobs=-1)]: Done 866 tasks      | elapsed: 82.1min\n"
     ]
    },
    {
     "name": "stdout",
     "output_type": "stream",
     "text": [
      "0.720059558260935\n",
      "{'n_factors': 51, 'cache_ratings': True, 'n_epochs': 100, 'lr_all': 0.01584893192461124, 'reg_all': 0.10000000000000082}\n"
     ]
    },
    {
     "name": "stderr",
     "output_type": "stream",
     "text": [
      "[Parallel(n_jobs=-1)]: Done 1000 out of 1000 | elapsed: 94.0min finished\n"
     ]
    }
   ],
   "source": [
    "from cv_logs import ParameterSearch\n",
    "\n",
    "import numpy as np\n",
    "from surprise.prediction_algorithms.matrix_factorization import SVDpp\n",
    "from surprise.model_selection import RandomizedSearchCV\n",
    "\n",
    "ITERATIONS = 200\n",
    "FOLD = 5\n",
    "\n",
    "param_grid = {\n",
    "    \"n_factors\": np.arange(1, 250, 2),\n",
    "    \"cache_ratings\": [True],\n",
    "    \"n_epochs\": [100],\n",
    "    \"lr_all\": 10 ** (np.arange(-5, 0, 0.4)),\n",
    "    \"reg_all\": 10 ** (np.arange(-5, 0, 0.4)),\n",
    "    # \"reg_bu\": [0],\n",
    "    # \"reg_bi\": [0],\n",
    "}\n",
    "rs = RandomizedSearchCV(\n",
    "    SVDpp,\n",
    "    param_grid,\n",
    "    measures=[\"rmse\"],\n",
    "    n_iter=ITERATIONS,\n",
    "    cv=FOLD,\n",
    "    n_jobs=-1,\n",
    "    joblib_verbose=5,\n",
    ")\n",
    "rs.fit(data)\n",
    "print(rs.best_score[\"rmse\"])\n",
    "print(rs.best_params[\"rmse\"])"
   ]
  }
 ],
 "metadata": {
  "kernelspec": {
   "display_name": "stat30092",
   "language": "python",
   "name": "python3"
  },
  "language_info": {
   "codemirror_mode": {
    "name": "ipython",
    "version": 3
   },
   "file_extension": ".py",
   "mimetype": "text/x-python",
   "name": "python",
   "nbconvert_exporter": "python",
   "pygments_lexer": "ipython3",
   "version": "3.12.0"
  }
 },
 "nbformat": 4,
 "nbformat_minor": 2
}
