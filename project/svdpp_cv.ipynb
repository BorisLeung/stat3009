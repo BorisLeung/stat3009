{
 "cells": [
  {
   "cell_type": "code",
   "execution_count": 2,
   "metadata": {},
   "outputs": [],
   "source": [
    "import pandas as pd\n",
    "from surprise import Dataset, Reader\n",
    "from surprise.prediction_algorithms.matrix_factorization import SVDpp\n",
    "\n",
    "import os\n",
    "\n",
    "DATA_DIR = \"data\"\n",
    "train_data = pd.read_csv(os.path.join(DATA_DIR, \"train.csv\"))\n",
    "X = pd.read_csv(os.path.join(DATA_DIR, \"test.csv\"))\n",
    "\n",
    "reader = Reader(rating_scale=(0, 10))\n",
    "data = Dataset.load_from_df(train_data, reader)\n",
    "full_train_data = data.build_full_trainset()"
   ]
  },
  {
   "cell_type": "code",
   "execution_count": 3,
   "metadata": {},
   "outputs": [
    {
     "name": "stderr",
     "output_type": "stream",
     "text": [
      "[Parallel(n_jobs=-1)]: Using backend LokyBackend with 12 concurrent workers.\n",
      "[Parallel(n_jobs=-1)]: Done  48 tasks      | elapsed:  1.4min\n",
      "[Parallel(n_jobs=-1)]: Done 138 tasks      | elapsed:  2.8min\n",
      "[Parallel(n_jobs=-1)]: Done 264 tasks      | elapsed:  5.3min\n",
      "[Parallel(n_jobs=-1)]: Done 426 tasks      | elapsed:  8.6min\n",
      "[Parallel(n_jobs=-1)]: Done 624 tasks      | elapsed: 12.8min\n",
      "[Parallel(n_jobs=-1)]: Done 858 tasks      | elapsed: 17.6min\n",
      "[Parallel(n_jobs=-1)]: Done 1128 tasks      | elapsed: 22.5min\n",
      "[Parallel(n_jobs=-1)]: Done 1434 tasks      | elapsed: 28.1min\n",
      "[Parallel(n_jobs=-1)]: Done 1776 tasks      | elapsed: 36.1min\n",
      "[Parallel(n_jobs=-1)]: Done 2154 tasks      | elapsed: 44.6min\n",
      "[Parallel(n_jobs=-1)]: Done 2568 tasks      | elapsed: 52.9min\n",
      "[Parallel(n_jobs=-1)]: Done 3018 tasks      | elapsed: 62.2min\n",
      "[Parallel(n_jobs=-1)]: Done 3504 tasks      | elapsed: 71.8min\n",
      "[Parallel(n_jobs=-1)]: Done 4000 out of 4000 | elapsed: 82.1min finished\n"
     ]
    },
    {
     "name": "stdout",
     "output_type": "stream",
     "text": [
      "0.6765337174501169\n",
      "{'n_factors': 1, 'cache_ratings': 'True', 'n_epochs': 350, 'lr_all': 0.0017782794100389228, 'reg_all': 0.001, 'reg_bu': 0, 'reg_bi': 0}\n"
     ]
    }
   ],
   "source": [
    "from cv_logs import ParameterSearch, save_model\n",
    "from predict import predict\n",
    "\n",
    "import numpy as np\n",
    "from surprise.prediction_algorithms.matrix_factorization import SVDpp\n",
    "from surprise.model_selection import RandomizedSearchCV\n",
    "\n",
    "ITERATIONS = 1000\n",
    "FOLD = 4\n",
    "\n",
    "param_grid = {\n",
    "    \"n_factors\": np.arange(1, 151, 1),\n",
    "    \"cache_ratings\": [\"True\"],\n",
    "    \"n_epochs\": np.arange(50, 1001, 50),\n",
    "    \"lr_all\": 10 ** (np.arange(-5, 0, 0.25)),\n",
    "    \"reg_all\": 10 ** (np.arange(-5, 0, 0.25)),\n",
    "    \"reg_bu\": [0],\n",
    "    \"reg_bi\": [0],\n",
    "}\n",
    "rs = RandomizedSearchCV(\n",
    "    SVDpp,\n",
    "    param_grid,\n",
    "    measures=[\"rmse\"],\n",
    "    n_iter=ITERATIONS,\n",
    "    cv=FOLD,\n",
    "    n_jobs=-1,\n",
    "    joblib_verbose=5,\n",
    ")\n",
    "rs.fit(data)\n",
    "ps = ParameterSearch(rs.cv_results)\n",
    "ps.write(f\"SVDpp-cv{FOLD}.csv\")\n",
    "print(rs.best_score[\"rmse\"])\n",
    "print(rs.best_params[\"rmse\"])\n",
    "best_n = SVDpp(**rs.best_params[\"rmse\"]).fit(full_train_data)\n",
    "# public score:?\n",
    "predict(best_n, f\"SVDpp-cv{FOLD}.csv\")\n",
    "save_model(best_n, f\"SVDpp-cv{FOLD}\")"
   ]
  },
  {
   "cell_type": "code",
   "execution_count": 4,
   "metadata": {},
   "outputs": [
    {
     "name": "stderr",
     "output_type": "stream",
     "text": [
      "[Parallel(n_jobs=-1)]: Using backend LokyBackend with 12 concurrent workers.\n",
      "[Parallel(n_jobs=-1)]: Done  48 tasks      | elapsed:   25.8s\n",
      "[Parallel(n_jobs=-1)]: Done 138 tasks      | elapsed:  1.3min\n",
      "[Parallel(n_jobs=-1)]: Done 264 tasks      | elapsed:  2.8min\n",
      "[Parallel(n_jobs=-1)]: Done 426 tasks      | elapsed:  4.3min\n",
      "[Parallel(n_jobs=-1)]: Done 624 tasks      | elapsed:  6.3min\n",
      "[Parallel(n_jobs=-1)]: Done 858 tasks      | elapsed:  8.6min\n",
      "[Parallel(n_jobs=-1)]: Done 1128 tasks      | elapsed: 10.9min\n",
      "[Parallel(n_jobs=-1)]: Done 1434 tasks      | elapsed: 13.9min\n",
      "[Parallel(n_jobs=-1)]: Done 1776 tasks      | elapsed: 17.6min\n",
      "[Parallel(n_jobs=-1)]: Done 2000 out of 2000 | elapsed: 19.9min finished\n"
     ]
    },
    {
     "name": "stdout",
     "output_type": "stream",
     "text": [
      "0.7459400348764844\n",
      "{'n_factors': 1, 'cache_ratings': 'True', 'n_epochs': 450, 'lr_all': 0.0031622776601683794, 'reg_all': 0.0031622776601683794, 'reg_bu': 0, 'reg_bi': 0}\n"
     ]
    }
   ],
   "source": [
    "from cv_logs import ParameterSearch, save_model\n",
    "from predict import predict\n",
    "\n",
    "import numpy as np\n",
    "from surprise.prediction_algorithms.matrix_factorization import SVDpp\n",
    "from surprise.model_selection import RandomizedSearchCV\n",
    "\n",
    "ITERATIONS = 1000\n",
    "FOLD = 2\n",
    "\n",
    "param_grid = {\n",
    "    \"n_factors\": np.arange(1, 151, 1),\n",
    "    \"cache_ratings\": [\"True\"],\n",
    "    \"n_epochs\": np.arange(50, 1001, 50),\n",
    "    \"lr_all\": 10 ** (np.arange(-5, 0, 0.25)),\n",
    "    \"reg_all\": 10 ** (np.arange(-5, 0, 0.25)),\n",
    "    \"reg_bu\": [0],\n",
    "    \"reg_bi\": [0],\n",
    "}\n",
    "rs = RandomizedSearchCV(\n",
    "    SVDpp,\n",
    "    param_grid,\n",
    "    measures=[\"rmse\"],\n",
    "    n_iter=ITERATIONS,\n",
    "    cv=FOLD,\n",
    "    n_jobs=-1,\n",
    "    joblib_verbose=5,\n",
    ")\n",
    "rs.fit(data)\n",
    "ps = ParameterSearch(rs.cv_results)\n",
    "ps.write(f\"SVDpp-cv{FOLD}.csv\")\n",
    "print(rs.best_score[\"rmse\"])\n",
    "print(rs.best_params[\"rmse\"])\n",
    "best_n = SVDpp(**rs.best_params[\"rmse\"]).fit(full_train_data)\n",
    "# public score:?\n",
    "predict(best_n, f\"SVDpp-cv{FOLD}.csv\")\n",
    "save_model(best_n, f\"SVDpp-cv{FOLD}\")"
   ]
  }
 ],
 "metadata": {
  "kernelspec": {
   "display_name": "stat3009",
   "language": "python",
   "name": "python3"
  },
  "language_info": {
   "codemirror_mode": {
    "name": "ipython",
    "version": 3
   },
   "file_extension": ".py",
   "mimetype": "text/x-python",
   "name": "python",
   "nbconvert_exporter": "python",
   "pygments_lexer": "ipython3",
   "version": "3.10.12"
  }
 },
 "nbformat": 4,
 "nbformat_minor": 2
}
