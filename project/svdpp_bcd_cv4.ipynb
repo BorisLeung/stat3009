{
 "cells": [
  {
   "cell_type": "code",
   "execution_count": 1,
   "metadata": {},
   "outputs": [],
   "source": [
    "import pandas as pd\n",
    "from surprise import Dataset, Reader\n",
    "from surprise.prediction_algorithms.matrix_factorization import SVDpp\n",
    "\n",
    "import os\n",
    "\n",
    "DATA_DIR = \"data\"\n",
    "train_data = pd.read_csv(os.path.join(DATA_DIR, \"train.csv\"))\n",
    "X = pd.read_csv(os.path.join(DATA_DIR, \"test.csv\"))\n",
    "\n",
    "reader = Reader(rating_scale=(0, 10))\n",
    "data = Dataset.load_from_df(train_data, reader)\n",
    "full_train_data = data.build_full_trainset()"
   ]
  },
  {
   "cell_type": "code",
   "execution_count": 7,
   "metadata": {},
   "outputs": [
    {
     "name": "stderr",
     "output_type": "stream",
     "text": [
      "[Parallel(n_jobs=-1)]: Using backend LokyBackend with 12 concurrent workers.\n",
      "[Parallel(n_jobs=-1)]: Done  72 tasks      | elapsed:    0.9s\n",
      "[Parallel(n_jobs=-1)]: Done 252 tasks      | elapsed:    4.4s\n",
      "[Parallel(n_jobs=-1)]: Done 501 tasks      | elapsed:   13.0s\n",
      "[Parallel(n_jobs=-1)]: Done 666 tasks      | elapsed:   20.8s\n",
      "[Parallel(n_jobs=-1)]: Done 864 tasks      | elapsed:   32.4s\n",
      "[Parallel(n_jobs=-1)]: Done 1098 tasks      | elapsed:   50.0s\n",
      "[Parallel(n_jobs=-1)]: Done 1368 tasks      | elapsed:  1.2min\n",
      "[Parallel(n_jobs=-1)]: Done 1674 tasks      | elapsed:  1.8min\n",
      "[Parallel(n_jobs=-1)]: Done 2016 tasks      | elapsed:  2.5min\n",
      "[Parallel(n_jobs=-1)]: Done 2394 tasks      | elapsed:  3.4min\n",
      "[Parallel(n_jobs=-1)]: Done 2808 tasks      | elapsed:  4.6min\n",
      "[Parallel(n_jobs=-1)]: Done 3258 tasks      | elapsed:  6.0min\n",
      "[Parallel(n_jobs=-1)]: Done 3744 tasks      | elapsed:  7.8min\n",
      "[Parallel(n_jobs=-1)]: Done 4266 tasks      | elapsed: 10.0min\n",
      "[Parallel(n_jobs=-1)]: Done 4824 tasks      | elapsed: 12.8min\n",
      "[Parallel(n_jobs=-1)]: Done 5418 tasks      | elapsed: 16.1min\n",
      "[Parallel(n_jobs=-1)]: Done 6048 tasks      | elapsed: 19.9min\n",
      "[Parallel(n_jobs=-1)]: Done 6714 tasks      | elapsed: 24.4min\n",
      "[Parallel(n_jobs=-1)]: Done 7416 tasks      | elapsed: 29.5min\n",
      "[Parallel(n_jobs=-1)]: Done 7996 out of 7996 | elapsed: 34.1min finished\n"
     ]
    },
    {
     "name": "stdout",
     "output_type": "stream",
     "text": [
      "0.6765267550457383\n",
      "{'n_factors': 1, 'cache_ratings': 'True', 'n_epochs': 567, 'lr_all': 0.0017782794100389228, 'reg_all': 0.001, 'reg_bu': 0, 'reg_bi': 0}\n"
     ]
    }
   ],
   "source": [
    "from cv_logs import ParameterSearch, save_model\n",
    "from predict import predict\n",
    "\n",
    "import numpy as np\n",
    "from surprise.model_selection import GridSearchCV\n",
    "\n",
    "# 0.6765337174501169\n",
    "# {'n_factors': 1, 'cache_ratings': 'True', 'n_epochs': 350, 'lr_all': 0.0017782794100389228, 'reg_all': 0.001, 'reg_bu': 0, 'reg_bi': 0}\n",
    "FOLD = 4\n",
    "# Find best n_epochs\n",
    "# best:\n",
    "ROUND = 1\n",
    "\n",
    "param_grid = {\n",
    "    \"n_factors\": [1],\n",
    "    \"cache_ratings\": [\"True\"],\n",
    "    \"n_epochs\": np.arange(1, 2000),\n",
    "    \"lr_all\": [0.0017782794100389228],\n",
    "    \"reg_all\": [0.001],\n",
    "    \"reg_bu\": [0],\n",
    "    \"reg_bi\": [0],\n",
    "}\n",
    "rs = GridSearchCV(\n",
    "    SVDpp,\n",
    "    param_grid,\n",
    "    measures=[\"rmse\"],\n",
    "    cv=FOLD,\n",
    "    n_jobs=-1,\n",
    "    joblib_verbose=5,\n",
    ")\n",
    "rs.fit(data)\n",
    "ps = ParameterSearch(rs.cv_results)\n",
    "model_name = f\"SVDpp-bcd{ROUND}-cv{FOLD}\"\n",
    "ps.write(f\"{model_name}.csv\")\n",
    "print(rs.best_score[\"rmse\"])\n",
    "print(rs.best_params[\"rmse\"])\n",
    "best_n = SVDpp(**rs.best_params[\"rmse\"]).fit(full_train_data)\n",
    "# public score:?\n",
    "predict(best_n, f\"{model_name}.csv\")\n",
    "save_model(best_n, model_name)"
   ]
  },
  {
   "cell_type": "code",
   "execution_count": 8,
   "metadata": {},
   "outputs": [
    {
     "name": "stderr",
     "output_type": "stream",
     "text": [
      "[Parallel(n_jobs=-1)]: Using backend LokyBackend with 12 concurrent workers.\n",
      "[Parallel(n_jobs=-1)]: Done  48 tasks      | elapsed:    7.7s\n",
      "[Parallel(n_jobs=-1)]: Done 138 tasks      | elapsed:   22.9s\n",
      "[Parallel(n_jobs=-1)]: Done 264 tasks      | elapsed:   42.4s\n",
      "[Parallel(n_jobs=-1)]: Done 426 tasks      | elapsed:  1.1min\n",
      "[Parallel(n_jobs=-1)]: Done 624 tasks      | elapsed:  1.6min\n",
      "[Parallel(n_jobs=-1)]: Done 792 out of 792 | elapsed:  2.0min finished\n"
     ]
    },
    {
     "name": "stdout",
     "output_type": "stream",
     "text": [
      "0.6765042378988935\n",
      "{'n_factors': 1, 'cache_ratings': 'True', 'n_epochs': 567, 'lr_all': 0.0022500000000000003, 'reg_all': 0.001, 'reg_bu': 0, 'reg_bi': 0}\n"
     ]
    }
   ],
   "source": [
    "# Find best lr_all\n",
    "# best: 0.0022500000000000003\n",
    "ROUND = 2\n",
    "\n",
    "param_grid = {\n",
    "    \"n_factors\": [1],\n",
    "    \"cache_ratings\": [\"True\"],\n",
    "    \"n_epochs\": [567],\n",
    "    \"lr_all\": np.arange(0.0001, 0.01, 0.00005),\n",
    "    \"reg_all\": [0.001],\n",
    "    \"reg_bu\": [0],\n",
    "    \"reg_bi\": [0],\n",
    "}\n",
    "rs = GridSearchCV(\n",
    "    SVDpp,\n",
    "    param_grid,\n",
    "    measures=[\"rmse\"],\n",
    "    cv=FOLD,\n",
    "    n_jobs=-1,\n",
    "    joblib_verbose=5,\n",
    ")\n",
    "rs.fit(data)\n",
    "ps = ParameterSearch(rs.cv_results)\n",
    "model_name = f\"SVDpp-bcd{ROUND}-cv{FOLD}\"\n",
    "ps.write(f\"{model_name}.csv\")\n",
    "print(rs.best_score[\"rmse\"])\n",
    "print(rs.best_params[\"rmse\"])\n",
    "best_n = SVDpp(**rs.best_params[\"rmse\"]).fit(full_train_data)\n",
    "# public score:?\n",
    "predict(best_n, f\"{model_name}.csv\")\n",
    "save_model(best_n, model_name)"
   ]
  },
  {
   "cell_type": "code",
   "execution_count": 9,
   "metadata": {},
   "outputs": [
    {
     "name": "stderr",
     "output_type": "stream",
     "text": [
      "[Parallel(n_jobs=-1)]: Using backend LokyBackend with 12 concurrent workers.\n",
      "[Parallel(n_jobs=-1)]: Done  48 tasks      | elapsed:    7.9s\n",
      "[Parallel(n_jobs=-1)]: Done 138 tasks      | elapsed:   22.6s\n",
      "[Parallel(n_jobs=-1)]: Done 264 tasks      | elapsed:   41.5s\n",
      "[Parallel(n_jobs=-1)]: Done 426 tasks      | elapsed:  1.1min\n",
      "[Parallel(n_jobs=-1)]: Done 624 tasks      | elapsed:  1.6min\n",
      "[Parallel(n_jobs=-1)]: Done 792 out of 792 | elapsed:  2.0min finished\n"
     ]
    },
    {
     "name": "stdout",
     "output_type": "stream",
     "text": [
      "0.6733492230734728\n",
      "{'n_factors': 1, 'cache_ratings': 'True', 'n_epochs': 567, 'lr_all': 0.0022500000000000003, 'reg_all': 0.008350000000000002, 'reg_bu': 0, 'reg_bi': 0}\n"
     ]
    }
   ],
   "source": [
    "# Find best reg_all\n",
    "# best: 0.008350000000000002\n",
    "ROUND = 3\n",
    "\n",
    "param_grid = {\n",
    "    \"n_factors\": [1],\n",
    "    \"cache_ratings\": [\"True\"],\n",
    "    \"n_epochs\": [567],\n",
    "    \"lr_all\": [0.0022500000000000003],\n",
    "    \"reg_all\": np.arange(0.0001, 0.01, 0.00005),\n",
    "    \"reg_bu\": [0],\n",
    "    \"reg_bi\": [0],\n",
    "}\n",
    "rs = GridSearchCV(\n",
    "    SVDpp,\n",
    "    param_grid,\n",
    "    measures=[\"rmse\"],\n",
    "    cv=FOLD,\n",
    "    n_jobs=-1,\n",
    "    joblib_verbose=5,\n",
    ")\n",
    "rs.fit(data)\n",
    "ps = ParameterSearch(rs.cv_results)\n",
    "model_name = f\"SVDpp-bcd{ROUND}-cv{FOLD}\"\n",
    "ps.write(f\"{model_name}.csv\")\n",
    "print(rs.best_score[\"rmse\"])\n",
    "print(rs.best_params[\"rmse\"])\n",
    "best_n = SVDpp(**rs.best_params[\"rmse\"]).fit(full_train_data)\n",
    "# public score:?\n",
    "predict(best_n, f\"{model_name}.csv\")\n",
    "save_model(best_n, model_name)"
   ]
  },
  {
   "cell_type": "code",
   "execution_count": 10,
   "metadata": {},
   "outputs": [
    {
     "name": "stderr",
     "output_type": "stream",
     "text": [
      "[Parallel(n_jobs=-1)]: Using backend LokyBackend with 12 concurrent workers.\n",
      "[Parallel(n_jobs=-1)]: Done  48 tasks      | elapsed:    7.8s\n",
      "[Parallel(n_jobs=-1)]: Done 138 tasks      | elapsed:   21.5s\n",
      "[Parallel(n_jobs=-1)]: Done 264 tasks      | elapsed:   38.9s\n",
      "[Parallel(n_jobs=-1)]: Done 426 tasks      | elapsed:  1.2min\n",
      "[Parallel(n_jobs=-1)]: Done 500 out of 500 | elapsed:  1.4min finished\n"
     ]
    },
    {
     "name": "stdout",
     "output_type": "stream",
     "text": [
      "0.6785746313067377\n",
      "{'n_factors': 1, 'cache_ratings': 'True', 'n_epochs': 567, 'lr_all': 0.0026, 'reg_all': 0.00945, 'reg_bu': 0, 'reg_bi': 0}\n"
     ]
    }
   ],
   "source": [
    "# Find best from top 5\n",
    "ROUND = 4\n",
    "\n",
    "param_grid = {\n",
    "    \"n_factors\": [1],\n",
    "    \"cache_ratings\": [\"True\"],\n",
    "    \"n_epochs\": [567, 519, 548, 701, 764],\n",
    "    \"lr_all\": [0.00225, 0.0019, 0.00235, 0.00195, 0.0026],\n",
    "    \"reg_all\": [0.00835, 0.00945, 0.00705, 0.0051, 0.00695],\n",
    "    \"reg_bu\": [0],\n",
    "    \"reg_bi\": [0],\n",
    "}\n",
    "rs = GridSearchCV(\n",
    "    SVDpp,\n",
    "    param_grid,\n",
    "    measures=[\"rmse\"],\n",
    "    cv=FOLD,\n",
    "    n_jobs=-1,\n",
    "    joblib_verbose=5,\n",
    ")\n",
    "rs.fit(data)\n",
    "ps = ParameterSearch(rs.cv_results)\n",
    "model_name = f\"SVDpp-bcd{ROUND}-cv{FOLD}\"\n",
    "ps.write(f\"{model_name}.csv\")\n",
    "print(rs.best_score[\"rmse\"])\n",
    "print(rs.best_params[\"rmse\"])\n",
    "best_n = SVDpp(**rs.best_params[\"rmse\"]).fit(full_train_data)\n",
    "# public score:?\n",
    "predict(best_n, f\"{model_name}.csv\")\n",
    "save_model(best_n, model_name)"
   ]
  },
  {
   "cell_type": "code",
   "execution_count": 11,
   "metadata": {},
   "outputs": [
    {
     "name": "stderr",
     "output_type": "stream",
     "text": [
      "[Parallel(n_jobs=-1)]: Using backend LokyBackend with 12 concurrent workers.\n",
      "[Parallel(n_jobs=-1)]: Done  72 tasks      | elapsed:    0.9s\n",
      "[Parallel(n_jobs=-1)]: Done 252 tasks      | elapsed:    4.2s\n",
      "[Parallel(n_jobs=-1)]: Done 504 tasks      | elapsed:   12.4s\n",
      "[Parallel(n_jobs=-1)]: Done 738 tasks      | elapsed:   22.7s\n",
      "[Parallel(n_jobs=-1)]: Done 936 tasks      | elapsed:   34.5s\n",
      "[Parallel(n_jobs=-1)]: Done 1170 tasks      | elapsed:   51.5s\n",
      "[Parallel(n_jobs=-1)]: Done 1440 tasks      | elapsed:  1.3min\n",
      "[Parallel(n_jobs=-1)]: Done 1746 tasks      | elapsed:  1.8min\n",
      "[Parallel(n_jobs=-1)]: Done 2088 tasks      | elapsed:  2.5min\n",
      "[Parallel(n_jobs=-1)]: Done 2466 tasks      | elapsed:  3.4min\n",
      "[Parallel(n_jobs=-1)]: Done 2880 tasks      | elapsed:  4.6min\n",
      "[Parallel(n_jobs=-1)]: Done 3330 tasks      | elapsed:  6.1min\n",
      "[Parallel(n_jobs=-1)]: Done 3816 tasks      | elapsed:  7.9min\n",
      "[Parallel(n_jobs=-1)]: Done 3996 out of 3996 | elapsed:  8.6min finished\n"
     ]
    },
    {
     "name": "stdout",
     "output_type": "stream",
     "text": [
      "0.6716045856187244\n",
      "{'n_factors': 1, 'cache_ratings': 'True', 'n_epochs': 482, 'lr_all': 0.0026, 'reg_all': 0.00945, 'reg_bu': 0, 'reg_bi': 0}\n"
     ]
    }
   ],
   "source": [
    "# Find best n_epochs\n",
    "# best:\n",
    "ROUND = 5\n",
    "\n",
    "param_grid = {\n",
    "    \"n_factors\": [1],\n",
    "    \"cache_ratings\": [\"True\"],\n",
    "    \"n_epochs\": np.arange(1, 1000),\n",
    "    \"lr_all\": [0.0026],\n",
    "    \"reg_all\": [0.00945],\n",
    "    \"reg_bu\": [0],\n",
    "    \"reg_bi\": [0],\n",
    "}\n",
    "rs = GridSearchCV(\n",
    "    SVDpp,\n",
    "    param_grid,\n",
    "    measures=[\"rmse\"],\n",
    "    cv=FOLD,\n",
    "    n_jobs=-1,\n",
    "    joblib_verbose=5,\n",
    ")\n",
    "rs.fit(data)\n",
    "ps = ParameterSearch(rs.cv_results)\n",
    "model_name = f\"SVDpp-bcd{ROUND}-cv{FOLD}\"\n",
    "ps.write(f\"{model_name}.csv\")\n",
    "print(rs.best_score[\"rmse\"])\n",
    "print(rs.best_params[\"rmse\"])\n",
    "best_n = SVDpp(**rs.best_params[\"rmse\"]).fit(full_train_data)\n",
    "# public score:?\n",
    "predict(best_n, f\"{model_name}.csv\")\n",
    "save_model(best_n, model_name)"
   ]
  },
  {
   "cell_type": "code",
   "execution_count": 12,
   "metadata": {},
   "outputs": [
    {
     "name": "stderr",
     "output_type": "stream",
     "text": [
      "[Parallel(n_jobs=-1)]: Using backend LokyBackend with 12 concurrent workers.\n",
      "[Parallel(n_jobs=-1)]: Done  48 tasks      | elapsed:    6.5s\n",
      "[Parallel(n_jobs=-1)]: Done 138 tasks      | elapsed:   18.4s\n",
      "[Parallel(n_jobs=-1)]: Done 264 tasks      | elapsed:   33.8s\n",
      "[Parallel(n_jobs=-1)]: Done 426 tasks      | elapsed:   54.5s\n",
      "[Parallel(n_jobs=-1)]: Done 624 tasks      | elapsed:  1.3min\n",
      "[Parallel(n_jobs=-1)]: Done 858 tasks      | elapsed:  1.8min\n",
      "[Parallel(n_jobs=-1)]: Done 1128 tasks      | elapsed:  2.4min\n",
      "[Parallel(n_jobs=-1)]: Done 1434 tasks      | elapsed:  3.0min\n",
      "[Parallel(n_jobs=-1)]: Done 1776 tasks      | elapsed:  3.7min\n",
      "[Parallel(n_jobs=-1)]: Done 2154 tasks      | elapsed:  4.5min\n",
      "[Parallel(n_jobs=-1)]: Done 2568 tasks      | elapsed:  5.4min\n",
      "[Parallel(n_jobs=-1)]: Done 3018 tasks      | elapsed:  6.3min\n",
      "[Parallel(n_jobs=-1)]: Done 3504 tasks      | elapsed:  7.4min\n",
      "[Parallel(n_jobs=-1)]: Done 3996 out of 3996 | elapsed:  8.4min finished\n"
     ]
    },
    {
     "name": "stdout",
     "output_type": "stream",
     "text": [
      "0.6748920417113103\n",
      "{'n_factors': 1, 'cache_ratings': 'True', 'n_epochs': 482, 'lr_all': 0.0025, 'reg_all': 0.00945, 'reg_bu': 0, 'reg_bi': 0}\n"
     ]
    }
   ],
   "source": [
    "# Find best lr_all\n",
    "# best: 0.0025\n",
    "ROUND = 6\n",
    "\n",
    "param_grid = {\n",
    "    \"n_factors\": [1],\n",
    "    \"cache_ratings\": [\"True\"],\n",
    "    \"n_epochs\": [482],\n",
    "    \"lr_all\": np.arange(0.00001, 0.01, 0.00001),\n",
    "    \"reg_all\": [0.00945],\n",
    "    \"reg_bu\": [0],\n",
    "    \"reg_bi\": [0],\n",
    "}\n",
    "rs = GridSearchCV(\n",
    "    SVDpp,\n",
    "    param_grid,\n",
    "    measures=[\"rmse\"],\n",
    "    cv=FOLD,\n",
    "    n_jobs=-1,\n",
    "    joblib_verbose=5,\n",
    ")\n",
    "rs.fit(data)\n",
    "ps = ParameterSearch(rs.cv_results)\n",
    "model_name = f\"SVDpp-bcd{ROUND}-cv{FOLD}\"\n",
    "ps.write(f\"{model_name}.csv\")\n",
    "print(rs.best_score[\"rmse\"])\n",
    "print(rs.best_params[\"rmse\"])\n",
    "best_n = SVDpp(**rs.best_params[\"rmse\"]).fit(full_train_data)\n",
    "# public score:?\n",
    "predict(best_n, f\"{model_name}.csv\")\n",
    "save_model(best_n, model_name)"
   ]
  },
  {
   "cell_type": "code",
   "execution_count": 13,
   "metadata": {},
   "outputs": [
    {
     "name": "stderr",
     "output_type": "stream",
     "text": [
      "[Parallel(n_jobs=-1)]: Using backend LokyBackend with 12 concurrent workers.\n",
      "[Parallel(n_jobs=-1)]: Done  48 tasks      | elapsed:    7.0s\n",
      "[Parallel(n_jobs=-1)]: Done 138 tasks      | elapsed:   19.0s\n",
      "[Parallel(n_jobs=-1)]: Done 264 tasks      | elapsed:   34.4s\n",
      "[Parallel(n_jobs=-1)]: Done 426 tasks      | elapsed:   54.6s\n",
      "[Parallel(n_jobs=-1)]: Done 624 tasks      | elapsed:  1.3min\n",
      "[Parallel(n_jobs=-1)]: Done 858 tasks      | elapsed:  1.8min\n",
      "[Parallel(n_jobs=-1)]: Done 1128 tasks      | elapsed:  2.4min\n",
      "[Parallel(n_jobs=-1)]: Done 1434 tasks      | elapsed:  3.0min\n",
      "[Parallel(n_jobs=-1)]: Done 1776 tasks      | elapsed:  3.7min\n",
      "[Parallel(n_jobs=-1)]: Done 2154 tasks      | elapsed:  4.5min\n",
      "[Parallel(n_jobs=-1)]: Done 2568 tasks      | elapsed:  5.4min\n",
      "[Parallel(n_jobs=-1)]: Done 3018 tasks      | elapsed:  6.3min\n",
      "[Parallel(n_jobs=-1)]: Done 3504 tasks      | elapsed:  7.3min\n",
      "[Parallel(n_jobs=-1)]: Done 3996 out of 3996 | elapsed:  8.4min finished\n"
     ]
    },
    {
     "name": "stdout",
     "output_type": "stream",
     "text": [
      "0.6734784160695896\n",
      "{'n_factors': 1, 'cache_ratings': 'True', 'n_epochs': 482, 'lr_all': 0.0025, 'reg_all': 0.008150000000000001, 'reg_bu': 0, 'reg_bi': 0}\n"
     ]
    }
   ],
   "source": [
    "# Find best reg_all\n",
    "# best: 0.008150000000000001\n",
    "ROUND = 7\n",
    "\n",
    "param_grid = {\n",
    "    \"n_factors\": [1],\n",
    "    \"cache_ratings\": [\"True\"],\n",
    "    \"n_epochs\": [482],\n",
    "    \"lr_all\": [0.0025],\n",
    "    \"reg_all\": np.arange(0.00001, 0.01, 0.00001),\n",
    "    \"reg_bu\": [0],\n",
    "    \"reg_bi\": [0],\n",
    "}\n",
    "rs = GridSearchCV(\n",
    "    SVDpp,\n",
    "    param_grid,\n",
    "    measures=[\"rmse\"],\n",
    "    cv=FOLD,\n",
    "    n_jobs=-1,\n",
    "    joblib_verbose=5,\n",
    ")\n",
    "rs.fit(data)\n",
    "ps = ParameterSearch(rs.cv_results)\n",
    "model_name = f\"SVDpp-bcd{ROUND}-cv{FOLD}\"\n",
    "ps.write(f\"{model_name}.csv\")\n",
    "print(rs.best_score[\"rmse\"])\n",
    "print(rs.best_params[\"rmse\"])\n",
    "best_n = SVDpp(**rs.best_params[\"rmse\"]).fit(full_train_data)\n",
    "# public score:?\n",
    "predict(best_n, f\"{model_name}.csv\")\n",
    "save_model(best_n, model_name)"
   ]
  },
  {
   "cell_type": "code",
   "execution_count": 14,
   "metadata": {},
   "outputs": [
    {
     "name": "stderr",
     "output_type": "stream",
     "text": [
      "[Parallel(n_jobs=-1)]: Using backend LokyBackend with 12 concurrent workers.\n",
      "[Parallel(n_jobs=-1)]: Done  48 tasks      | elapsed:    7.0s\n",
      "[Parallel(n_jobs=-1)]: Done 138 tasks      | elapsed:   20.0s\n",
      "[Parallel(n_jobs=-1)]: Done 264 tasks      | elapsed:   36.6s\n",
      "[Parallel(n_jobs=-1)]: Done 426 tasks      | elapsed:   56.3s\n",
      "[Parallel(n_jobs=-1)]: Done 500 out of 500 | elapsed:  1.1min finished\n"
     ]
    },
    {
     "name": "stdout",
     "output_type": "stream",
     "text": [
      "0.6767424866505474\n",
      "{'n_factors': 1, 'cache_ratings': 'True', 'n_epochs': 577, 'lr_all': 0.00263, 'reg_all': 0.00942, 'reg_bu': 0, 'reg_bi': 0}\n"
     ]
    }
   ],
   "source": [
    "# Find best from top 5 of all params\n",
    "ROUND = 8\n",
    "\n",
    "param_grid = {\n",
    "    \"n_factors\": [1],\n",
    "    \"cache_ratings\": [\"True\"],\n",
    "    \"n_epochs\": [482, 575, 452, 424, 577],\n",
    "    \"lr_all\": [0.0025, 0.00251, 0.00263, 0.00285, 0.00298],\n",
    "    \"reg_all\": [0.00815, 0.00998, 0.00533, 0.00731, 0.00942],\n",
    "    \"reg_bu\": [0],\n",
    "    \"reg_bi\": [0],\n",
    "}\n",
    "rs = GridSearchCV(\n",
    "    SVDpp,\n",
    "    param_grid,\n",
    "    measures=[\"rmse\"],\n",
    "    cv=FOLD,\n",
    "    n_jobs=-1,\n",
    "    joblib_verbose=5,\n",
    ")\n",
    "rs.fit(data)\n",
    "ps = ParameterSearch(rs.cv_results)\n",
    "model_name = f\"SVDpp-bcd{ROUND}-cv{FOLD}\"\n",
    "ps.write(f\"{model_name}.csv\")\n",
    "print(rs.best_score[\"rmse\"])\n",
    "print(rs.best_params[\"rmse\"])\n",
    "best_n = SVDpp(**rs.best_params[\"rmse\"]).fit(full_train_data)\n",
    "# public score:?\n",
    "predict(best_n, f\"{model_name}.csv\")\n",
    "save_model(best_n, model_name)"
   ]
  }
 ],
 "metadata": {
  "kernelspec": {
   "display_name": "stat3009",
   "language": "python",
   "name": "python3"
  },
  "language_info": {
   "codemirror_mode": {
    "name": "ipython",
    "version": 3
   },
   "file_extension": ".py",
   "mimetype": "text/x-python",
   "name": "python",
   "nbconvert_exporter": "python",
   "pygments_lexer": "ipython3",
   "version": "3.10.12"
  }
 },
 "nbformat": 4,
 "nbformat_minor": 2
}
