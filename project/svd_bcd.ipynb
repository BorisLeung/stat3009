{
 "cells": [
  {
   "cell_type": "code",
   "execution_count": 2,
   "metadata": {},
   "outputs": [],
   "source": [
    "import pandas as pd\n",
    "from surprise import Dataset, Reader\n",
    "\n",
    "import os\n",
    "\n",
    "DATA_DIR = \"data\"\n",
    "train_data = pd.read_csv(os.path.join(DATA_DIR, \"train.csv\"))\n",
    "X = pd.read_csv(os.path.join(DATA_DIR, \"test.csv\"))\n",
    "\n",
    "reader = Reader(rating_scale=(0, 10))\n",
    "data = Dataset.load_from_df(train_data, reader)\n",
    "all_train = data.build_full_trainset()"
   ]
  },
  {
   "cell_type": "code",
   "execution_count": 3,
   "metadata": {},
   "outputs": [
    {
     "name": "stderr",
     "output_type": "stream",
     "text": [
      "[Parallel(n_jobs=-1)]: Using backend LokyBackend with 8 concurrent workers.\n",
      "[Parallel(n_jobs=-1)]: Done   2 tasks      | elapsed:    2.8s\n",
      "[Parallel(n_jobs=-1)]: Done  56 tasks      | elapsed:   12.3s\n",
      "[Parallel(n_jobs=-1)]: Done 146 tasks      | elapsed:   34.6s\n",
      "[Parallel(n_jobs=-1)]: Done 272 tasks      | elapsed:  1.3min\n",
      "[Parallel(n_jobs=-1)]: Done 434 tasks      | elapsed:  2.8min\n"
     ]
    },
    {
     "name": "stdout",
     "output_type": "stream",
     "text": [
      "0.6924387356256961\n",
      "{'n_factors': 1, 'n_epochs': 200, 'lr_all': 0.03981071705535002, 'reg_all': 0.10000000000000082, 'reg_bu': 0, 'reg_bi': 0}\n"
     ]
    },
    {
     "name": "stderr",
     "output_type": "stream",
     "text": [
      "[Parallel(n_jobs=-1)]: Done 597 out of 597 | elapsed:  4.7min finished\n"
     ]
    }
   ],
   "source": [
    "from cv_logs import ParameterSearch, save_model\n",
    "from predict import predict\n",
    "\n",
    "\n",
    "import numpy as np\n",
    "from surprise.prediction_algorithms.matrix_factorization import SVD\n",
    "from surprise.model_selection import GridSearchCV\n",
    "\n",
    "FOLD = 3\n",
    "# find best n_factor\n",
    "# best: 1\n",
    "ROUND = 1\n",
    "\n",
    "param_grid = {\n",
    "    \"n_factors\": np.arange(1, 200),\n",
    "    \"n_epochs\": [200],\n",
    "    \"lr_all\": [0.03981071705535002],\n",
    "    \"reg_all\": [0.10000000000000082],\n",
    "    \"reg_bu\": [0],\n",
    "    \"reg_bi\": [0],\n",
    "}\n",
    "rs = GridSearchCV(\n",
    "    SVD,\n",
    "    param_grid,\n",
    "    measures=[\"rmse\"],\n",
    "    cv=FOLD,\n",
    "    n_jobs=-1,\n",
    "    joblib_verbose=5,\n",
    ")\n",
    "rs.fit(data)\n",
    "ps = ParameterSearch(rs.cv_results)\n",
    "ps.write(\"svd-bcd1.csv\")\n",
    "print(rs.best_score[\"rmse\"])\n",
    "print(rs.best_params[\"rmse\"])\n",
    "best_n = SVD(**rs.best_params[\"rmse\"]).fit(all_train)\n",
    "# public score: 0.66533 -> best so far for SVD\n",
    "predict(best_n, \"svd-bcd1.csv\")\n",
    "save_model(best_n, \"svd-bcd1\")"
   ]
  },
  {
   "cell_type": "code",
   "execution_count": 6,
   "metadata": {},
   "outputs": [
    {
     "name": "stderr",
     "output_type": "stream",
     "text": [
      "[Parallel(n_jobs=-1)]: Using backend LokyBackend with 8 concurrent workers.\n",
      "[Parallel(n_jobs=-1)]: Done   2 tasks      | elapsed:    1.4s\n",
      "[Parallel(n_jobs=-1)]: Done  56 tasks      | elapsed:    2.5s\n",
      "[Parallel(n_jobs=-1)]: Done 146 tasks      | elapsed:    5.6s\n",
      "[Parallel(n_jobs=-1)]: Done 272 tasks      | elapsed:   12.8s\n",
      "[Parallel(n_jobs=-1)]: Done 434 tasks      | elapsed:   27.1s\n",
      "[Parallel(n_jobs=-1)]: Done 632 tasks      | elapsed:   54.6s\n",
      "[Parallel(n_jobs=-1)]: Done 866 tasks      | elapsed:  1.7min\n",
      "[Parallel(n_jobs=-1)]: Done 1136 tasks      | elapsed:  3.1min\n",
      "[Parallel(n_jobs=-1)]: Done 1442 tasks      | elapsed:  5.1min\n",
      "[Parallel(n_jobs=-1)]: Done 1784 tasks      | elapsed:  7.6min\n",
      "[Parallel(n_jobs=-1)]: Done 2162 tasks      | elapsed: 11.0min\n",
      "[Parallel(n_jobs=-1)]: Done 2576 tasks      | elapsed: 15.2min\n",
      "[Parallel(n_jobs=-1)]: Done 3026 tasks      | elapsed: 20.6min\n",
      "[Parallel(n_jobs=-1)]: Done 3512 tasks      | elapsed: 28.1min\n",
      "[Parallel(n_jobs=-1)]: Done 4034 tasks      | elapsed: 37.0min\n",
      "[Parallel(n_jobs=-1)]: Done 4592 tasks      | elapsed: 48.0min\n",
      "[Parallel(n_jobs=-1)]: Done 5186 tasks      | elapsed: 61.5min\n",
      "[Parallel(n_jobs=-1)]: Done 5816 tasks      | elapsed: 77.7min\n",
      "[Parallel(n_jobs=-1)]: Done 6482 tasks      | elapsed: 96.5min\n",
      "[Parallel(n_jobs=-1)]: Done 7184 tasks      | elapsed: 118.5min\n",
      "[Parallel(n_jobs=-1)]: Done 7497 out of 7497 | elapsed: 129.0min finished\n"
     ]
    },
    {
     "name": "stdout",
     "output_type": "stream",
     "text": [
      "0.6907647745692946\n",
      "{'n_factors': 1, 'n_epochs': 72, 'lr_all': 0.03981071705535002, 'reg_all': 0.10000000000000082, 'reg_bu': 0, 'reg_bi': 0}\n"
     ]
    }
   ],
   "source": [
    "# find best n_epochs\n",
    "# best: 72\n",
    "ROUND = 2\n",
    "\n",
    "param_grid = {\n",
    "    \"n_factors\": [1],\n",
    "    \"n_epochs\": np.arange(1, 2500),\n",
    "    \"lr_all\": [0.03981071705535002],\n",
    "    \"reg_all\": [0.10000000000000082],\n",
    "    \"reg_bu\": [0],\n",
    "    \"reg_bi\": [0],\n",
    "}\n",
    "rs = GridSearchCV(\n",
    "    SVD,\n",
    "    param_grid,\n",
    "    measures=[\"rmse\"],\n",
    "    cv=FOLD,\n",
    "    n_jobs=-1,\n",
    "    joblib_verbose=5,\n",
    ")\n",
    "rs.fit(data)\n",
    "model_name = f\"SVD-bcd{ROUND}\"\n",
    "ps = ParameterSearch(rs.cv_results)\n",
    "ps.write(f\"{model_name}.csv\")\n",
    "\n",
    "print(rs.best_score[\"rmse\"])\n",
    "print(rs.best_params[\"rmse\"])\n",
    "best_n = SVD(**rs.best_params[\"rmse\"]).fit(all_train)\n",
    "# public score:?\n",
    "predict(best_n, f\"{model_name}.csv\")\n",
    "save_model(best_n, model_name)"
   ]
  },
  {
   "cell_type": "code",
   "execution_count": 7,
   "metadata": {},
   "outputs": [
    {
     "name": "stderr",
     "output_type": "stream",
     "text": [
      "[Parallel(n_jobs=-1)]: Using backend LokyBackend with 8 concurrent workers.\n",
      "[Parallel(n_jobs=-1)]: Done   2 tasks      | elapsed:    0.3s\n",
      "[Parallel(n_jobs=-1)]: Done  56 tasks      | elapsed:    3.5s\n",
      "[Parallel(n_jobs=-1)]: Done 146 tasks      | elapsed:   10.2s\n",
      "[Parallel(n_jobs=-1)]: Done 272 tasks      | elapsed:   21.4s\n",
      "[Parallel(n_jobs=-1)]: Done 300 out of 300 | elapsed:   23.3s finished\n"
     ]
    },
    {
     "name": "stdout",
     "output_type": "stream",
     "text": [
      "0.6964187158416534\n",
      "{'n_factors': 1, 'n_epochs': 72, 'lr_all': 0.033, 'reg_all': 0.10000000000000082, 'reg_bu': 0, 'reg_bi': 0}\n"
     ]
    }
   ],
   "source": [
    "# find best lr_all\n",
    "# best: 0.033\n",
    "ROUND = 3\n",
    "\n",
    "param_grid = {\n",
    "    \"n_factors\": [1],\n",
    "    \"n_epochs\": [72],\n",
    "    \"lr_all\": np.arange(0.001, 0.101, 0.001),\n",
    "    \"reg_all\": [0.10000000000000082],\n",
    "    \"reg_bu\": [0],\n",
    "    \"reg_bi\": [0],\n",
    "}\n",
    "rs = GridSearchCV(\n",
    "    SVD,\n",
    "    param_grid,\n",
    "    measures=[\"rmse\"],\n",
    "    cv=FOLD,\n",
    "    n_jobs=-1,\n",
    "    joblib_verbose=5,\n",
    ")\n",
    "rs.fit(data)\n",
    "model_name = f\"SVD-bcd{ROUND}\"\n",
    "ps = ParameterSearch(rs.cv_results)\n",
    "ps.write(f\"{model_name}.csv\")\n",
    "\n",
    "print(rs.best_score[\"rmse\"])\n",
    "print(rs.best_params[\"rmse\"])\n",
    "best_n = SVD(**rs.best_params[\"rmse\"]).fit(all_train)\n",
    "# public score:?\n",
    "predict(best_n, f\"{model_name}.csv\")\n",
    "save_model(best_n, model_name)"
   ]
  },
  {
   "cell_type": "code",
   "execution_count": 8,
   "metadata": {},
   "outputs": [
    {
     "name": "stderr",
     "output_type": "stream",
     "text": [
      "[Parallel(n_jobs=-1)]: Using backend LokyBackend with 8 concurrent workers.\n",
      "[Parallel(n_jobs=-1)]: Done   2 tasks      | elapsed:    0.5s\n",
      "[Parallel(n_jobs=-1)]: Done  56 tasks      | elapsed:    4.0s\n",
      "[Parallel(n_jobs=-1)]: Done 146 tasks      | elapsed:    9.5s\n",
      "[Parallel(n_jobs=-1)]: Done 272 tasks      | elapsed:   18.0s\n",
      "[Parallel(n_jobs=-1)]: Done 434 tasks      | elapsed:   30.1s\n",
      "[Parallel(n_jobs=-1)]: Done 632 tasks      | elapsed:   46.9s\n",
      "[Parallel(n_jobs=-1)]: Done 866 tasks      | elapsed:  1.1min\n",
      "[Parallel(n_jobs=-1)]: Done 1136 tasks      | elapsed:  1.5min\n",
      "[Parallel(n_jobs=-1)]: Done 1442 tasks      | elapsed:  2.0min\n",
      "[Parallel(n_jobs=-1)]: Done 1784 tasks      | elapsed:  2.5min\n",
      "[Parallel(n_jobs=-1)]: Done 2162 tasks      | elapsed:  3.1min\n",
      "[Parallel(n_jobs=-1)]: Done 2576 tasks      | elapsed:  3.7min\n",
      "[Parallel(n_jobs=-1)]: Done 2970 out of 2970 | elapsed:  4.3min finished\n"
     ]
    },
    {
     "name": "stdout",
     "output_type": "stream",
     "text": [
      "0.6847205602506046\n",
      "{'n_factors': 1, 'n_epochs': 72, 'lr_all': 0.033, 'reg_all': 0.047, 'reg_bu': 0, 'reg_bi': 0}\n"
     ]
    }
   ],
   "source": [
    "# find best reg_all\n",
    "# best: 0.047\n",
    "ROUND = 4\n",
    "\n",
    "param_grid = {\n",
    "    \"n_factors\": [1],\n",
    "    \"n_epochs\": [72],\n",
    "    \"lr_all\": [0.033],\n",
    "    \"reg_all\": np.arange(0.001, 0.991, 0.001),\n",
    "    \"reg_bu\": [0],\n",
    "    \"reg_bi\": [0],\n",
    "}\n",
    "rs = GridSearchCV(\n",
    "    SVD,\n",
    "    param_grid,\n",
    "    measures=[\"rmse\"],\n",
    "    cv=FOLD,\n",
    "    n_jobs=-1,\n",
    "    joblib_verbose=5,\n",
    ")\n",
    "rs.fit(data)\n",
    "model_name = f\"SVD-bcd{ROUND}\"\n",
    "ps = ParameterSearch(rs.cv_results)\n",
    "ps.write(f\"{model_name}.csv\")\n",
    "\n",
    "print(rs.best_score[\"rmse\"])\n",
    "print(rs.best_params[\"rmse\"])\n",
    "best_n = SVD(**rs.best_params[\"rmse\"]).fit(all_train)\n",
    "# public score:?\n",
    "predict(best_n, f\"{model_name}.csv\")\n",
    "save_model(best_n, model_name)"
   ]
  },
  {
   "cell_type": "code",
   "execution_count": 9,
   "metadata": {},
   "outputs": [
    {
     "name": "stderr",
     "output_type": "stream",
     "text": [
      "[Parallel(n_jobs=-1)]: Using backend LokyBackend with 8 concurrent workers.\n",
      "[Parallel(n_jobs=-1)]: Done   2 tasks      | elapsed:    1.9s\n",
      "[Parallel(n_jobs=-1)]: Done  56 tasks      | elapsed:    6.6s\n",
      "[Parallel(n_jobs=-1)]: Done 146 tasks      | elapsed:   17.7s\n",
      "[Parallel(n_jobs=-1)]: Done 272 tasks      | elapsed:   32.5s\n",
      "[Parallel(n_jobs=-1)]: Done 434 tasks      | elapsed:   49.2s\n",
      "[Parallel(n_jobs=-1)]: Done 632 tasks      | elapsed:  1.3min\n",
      "[Parallel(n_jobs=-1)]: Done 866 tasks      | elapsed:  1.9min\n",
      "[Parallel(n_jobs=-1)]: Done 1136 tasks      | elapsed:  3.0min\n",
      "[Parallel(n_jobs=-1)]: Done 1442 tasks      | elapsed:  4.0min\n",
      "[Parallel(n_jobs=-1)]: Done 1784 tasks      | elapsed:  5.2min\n",
      "[Parallel(n_jobs=-1)]: Done 1875 out of 1875 | elapsed:  5.4min finished\n"
     ]
    },
    {
     "name": "stdout",
     "output_type": "stream",
     "text": [
      "0.693165548309456\n",
      "{'n_factors': 1, 'n_epochs': 100, 'lr_all': 0.027, 'reg_all': 0.047, 'reg_bu': 0, 'reg_bi': 0}\n"
     ]
    }
   ],
   "source": [
    "# find from top 5 best params\n",
    "ROUND = 5\n",
    "\n",
    "param_grid = {\n",
    "    \"n_factors\": [1, 2, 69, 47, 45],\n",
    "    \"n_epochs\": [72, 101, 100, 103, 78],\n",
    "    \"lr_all\": [0.033, 0.038, 0.031, 0.037, 0.027],\n",
    "    \"reg_all\": [0.047, 0.033, 0.048, 0.031, 0.032],\n",
    "    \"reg_bu\": [0],\n",
    "    \"reg_bi\": [0],\n",
    "}\n",
    "rs = GridSearchCV(\n",
    "    SVD,\n",
    "    param_grid,\n",
    "    measures=[\"rmse\"],\n",
    "    cv=FOLD,\n",
    "    n_jobs=-1,\n",
    "    joblib_verbose=5,\n",
    ")\n",
    "rs.fit(data)\n",
    "model_name = f\"SVD-bcd{ROUND}\"\n",
    "ps = ParameterSearch(rs.cv_results)\n",
    "ps.write(f\"{model_name}.csv\")\n",
    "\n",
    "print(rs.best_score[\"rmse\"])\n",
    "print(rs.best_params[\"rmse\"])\n",
    "best_n = SVD(**rs.best_params[\"rmse\"]).fit(all_train)\n",
    "# public score:?\n",
    "predict(best_n, f\"{model_name}.csv\")\n",
    "save_model(best_n, model_name)"
   ]
  }
 ],
 "metadata": {
  "kernelspec": {
   "display_name": "stat30092",
   "language": "python",
   "name": "python3"
  },
  "language_info": {
   "codemirror_mode": {
    "name": "ipython",
    "version": 3
   },
   "file_extension": ".py",
   "mimetype": "text/x-python",
   "name": "python",
   "nbconvert_exporter": "python",
   "pygments_lexer": "ipython3",
   "version": "3.12.0"
  }
 },
 "nbformat": 4,
 "nbformat_minor": 2
}
