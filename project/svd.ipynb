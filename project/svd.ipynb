{
 "cells": [
  {
   "cell_type": "code",
   "execution_count": 1,
   "metadata": {},
   "outputs": [],
   "source": [
    "import pandas as pd\n",
    "from surprise import Dataset, Reader\n",
    "\n",
    "import os\n",
    "\n",
    "DATA_DIR = \"data\"\n",
    "train_data = pd.read_csv(os.path.join(DATA_DIR, \"train.csv\"))\n",
    "X = pd.read_csv(os.path.join(DATA_DIR, \"test.csv\"))\n",
    "\n",
    "reader = Reader(rating_scale=(0, 10))\n",
    "data = Dataset.load_from_df(train_data, reader)\n",
    "all_train = data.build_full_trainset()"
   ]
  },
  {
   "cell_type": "code",
   "execution_count": 5,
   "metadata": {},
   "outputs": [
    {
     "name": "stderr",
     "output_type": "stream",
     "text": [
      "[Parallel(n_jobs=-1)]: Using backend LokyBackend with 8 concurrent workers.\n",
      "[Parallel(n_jobs=-1)]: Done  16 tasks      | elapsed:   22.9s\n",
      "[Parallel(n_jobs=-1)]: Done 112 tasks      | elapsed:  1.5min\n",
      "[Parallel(n_jobs=-1)]: Done 272 tasks      | elapsed:  3.8min\n",
      "[Parallel(n_jobs=-1)]: Done 496 tasks      | elapsed:  6.7min\n",
      "[Parallel(n_jobs=-1)]: Done 784 tasks      | elapsed: 10.9min\n",
      "[Parallel(n_jobs=-1)]: Done 1136 tasks      | elapsed: 16.7min\n",
      "[Parallel(n_jobs=-1)]: Done 1552 tasks      | elapsed: 23.0min\n",
      "[Parallel(n_jobs=-1)]: Done 2032 tasks      | elapsed: 29.5min\n",
      "[Parallel(n_jobs=-1)]: Done 2576 tasks      | elapsed: 37.2min\n"
     ]
    },
    {
     "name": "stdout",
     "output_type": "stream",
     "text": [
      "0.716466446380316\n",
      "{'rmse': {'n_factors': 80, 'n_epochs': 200, 'biased': True, 'lr_all': 0.03981071705535002, 'reg_all': 0.10000000000000082, 'reg_bu': 0, 'reg_bi': 0}}\n"
     ]
    },
    {
     "name": "stderr",
     "output_type": "stream",
     "text": [
      "[Parallel(n_jobs=-1)]: Done 3000 out of 3000 | elapsed: 43.7min finished\n"
     ]
    }
   ],
   "source": [
    "from cv_logs import ParameterSearch\n",
    "\n",
    "from surprise import SVD\n",
    "from surprise.model_selection import RandomizedSearchCV\n",
    "import numpy as np\n",
    "\n",
    "ITERATION = 1000\n",
    "FOLDS = 3\n",
    "param_grid = {\n",
    "    \"n_factors\": np.arange(5, 500, 25),\n",
    "    \"n_epochs\": [200],\n",
    "    \"biased\": [True, False],\n",
    "    \"lr_all\": 10 ** (np.arange(-5, 0, 0.4)),\n",
    "    \"reg_all\": 10 ** (np.arange(-5, 0, 0.4)),\n",
    "    \"reg_bu\": [0],\n",
    "    \"reg_bi\": [0],\n",
    "}\n",
    "gs = RandomizedSearchCV(\n",
    "    SVD,\n",
    "    param_grid,\n",
    "    measures=[\"rmse\"],\n",
    "    cv=FOLDS,\n",
    "    n_jobs=-1,\n",
    "    n_iter=ITERATION,\n",
    "    joblib_verbose=3,\n",
    ")\n",
    "gs.fit(data)\n",
    "ps = ParameterSearch(gs.cv_results)\n",
    "ps.write(\"svd_1.csv\")\n",
    "print(gs.best_score[\"rmse\"])\n",
    "print(gs.best_params)"
   ]
  },
  {
   "cell_type": "code",
   "execution_count": 6,
   "metadata": {},
   "outputs": [],
   "source": [
    "from predict import predict\n",
    "from cv_logs import save_model\n",
    "\n",
    "svd_1 = SVD(**gs.best_params[\"rmse\"]).fit(all_train)\n",
    "\n",
    "# Public score: 0.66628\n",
    "predict(svd_1, \"svd_1.csv\")\n",
    "save_model(svd_1, \"svd_1\")"
   ]
  },
  {
   "cell_type": "code",
   "execution_count": 6,
   "metadata": {},
   "outputs": [
    {
     "data": {
      "text/plain": [
       "<surprise.prediction_algorithms.matrix_factorization.SVD at 0x11a01be50>"
      ]
     },
     "execution_count": 6,
     "metadata": {},
     "output_type": "execute_result"
    }
   ],
   "source": [
    "from surprise import SVD\n",
    "\n",
    "svd = SVD(n_factors=200, n_epochs=500, lr_all=0.001, reg_all=0.185, biased=False)\n",
    "svd.fit(all_train)"
   ]
  },
  {
   "cell_type": "code",
   "execution_count": 15,
   "metadata": {},
   "outputs": [],
   "source": [
    "import pandas as pd\n",
    "\n",
    "predictions = pd.DataFrame({}, columns=[\"Id\", \"rating\"])\n",
    "\n",
    "for Id, (user_id, item_id) in enumerate(X.values):\n",
    "    predictions.loc[-1] = [Id, svd.predict(user_id, item_id).est]\n",
    "    predictions.index = predictions.index + 1\n",
    "predictions = predictions.set_index(\"Id\").sort_index()\n",
    "predictions.index = predictions.index.astype(int)\n",
    "predictions.to_csv(\"svd.csv\")"
   ]
  },
  {
   "cell_type": "code",
   "execution_count": 1,
   "metadata": {},
   "outputs": [
    {
     "ename": "NameError",
     "evalue": "name 'predictions' is not defined",
     "output_type": "error",
     "traceback": [
      "\u001b[0;31m---------------------------------------------------------------------------\u001b[0m",
      "\u001b[0;31mNameError\u001b[0m                                 Traceback (most recent call last)",
      "\u001b[1;32m/Users/borisleung/Desktop/STAT3009/project/svd.ipynb Cell 5\u001b[0m line \u001b[0;36m1\n\u001b[0;32m----> <a href='vscode-notebook-cell:/Users/borisleung/Desktop/STAT3009/project/svd.ipynb#W4sZmlsZQ%3D%3D?line=0'>1</a>\u001b[0m predictions\n",
      "\u001b[0;31mNameError\u001b[0m: name 'predictions' is not defined"
     ]
    }
   ],
   "source": [
    "predictions"
   ]
  }
 ],
 "metadata": {
  "kernelspec": {
   "display_name": "stat3009",
   "language": "python",
   "name": "python3"
  },
  "language_info": {
   "codemirror_mode": {
    "name": "ipython",
    "version": 3
   },
   "file_extension": ".py",
   "mimetype": "text/x-python",
   "name": "python",
   "nbconvert_exporter": "python",
   "pygments_lexer": "ipython3",
   "version": "3.12.0"
  }
 },
 "nbformat": 4,
 "nbformat_minor": 2
}
