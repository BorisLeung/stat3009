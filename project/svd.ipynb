{
 "cells": [
  {
   "cell_type": "code",
   "execution_count": 4,
   "metadata": {},
   "outputs": [],
   "source": [
    "import pandas as pd\n",
    "from surprise import Dataset, Reader\n",
    "\n",
    "import os\n",
    "\n",
    "DATA_DIR = \"data\"\n",
    "train_data = pd.read_csv(os.path.join(DATA_DIR, \"train.csv\"))\n",
    "X = pd.read_csv(os.path.join(DATA_DIR, \"test.csv\"))\n",
    "\n",
    "reader = Reader(rating_scale=(0, 10))\n",
    "data = Dataset.load_from_df(train_data, reader)\n",
    "all_train = data.build_full_trainset()"
   ]
  },
  {
   "cell_type": "code",
   "execution_count": null,
   "metadata": {},
   "outputs": [
    {
     "name": "stderr",
     "output_type": "stream",
     "text": [
      "[Parallel(n_jobs=-1)]: Using backend LokyBackend with 12 concurrent workers.\n",
      "[Parallel(n_jobs=-1)]: Done   8 tasks      | elapsed:   14.8s\n",
      "[Parallel(n_jobs=-1)]: Done 104 tasks      | elapsed:  1.6min\n",
      "[Parallel(n_jobs=-1)]: Done 264 tasks      | elapsed:  4.1min\n"
     ]
    },
    {
     "name": "stdout",
     "output_type": "stream",
     "text": [
      "0.7526654930561751\n",
      "{'rmse': {'n_epochs': 2500, 'lr_all': 0.002, 'reg_all': 0.2, 'n_factors': 50}}\n"
     ]
    },
    {
     "name": "stderr",
     "output_type": "stream",
     "text": [
      "[Parallel(n_jobs=-1)]: Done 320 out of 320 | elapsed:  4.9min finished\n"
     ]
    }
   ],
   "source": [
    "# Surprise\n",
    "from surprise import SVD\n",
    "from surprise.model_selection import GridSearchCV\n",
    "\n",
    "\n",
    "# params = {\n",
    "#     \"lam\": [0.1, 0.01, 0.001, 0.0001],\n",
    "#     \"K\": list(range(5, 51, 10)),\n",
    "#     \"tol\": [1e-2, 1e-3, 1e-4, 1e-5],\n",
    "#     \"rd_ratio\": list(np.arange(0.1, 1.51, 0.2)),\n",
    "# }\n",
    "\n",
    "# search_result = GridSearchCV(\n",
    "#     SVDpp(n_user, n_item, iterNum=200, verbose=0),\n",
    "#     param_grid=params,\n",
    "#     scoring=score,\n",
    "#     cv=FOLD,\n",
    "#     n_jobs=-1,\n",
    "#     verbose=3,\n",
    "# )\n",
    "\n",
    "param_grid = {\n",
    "    \"n_epochs\": [2500],\n",
    "    \"lr_all\": [0.002, 0.005, 0.01, 0.1],\n",
    "    \"reg_all\": [0.4, 0.6, 0.8, 0.2],\n",
    "    \"n_factors\": [100, 200, 150, 50],\n",
    "}\n",
    "gs = GridSearchCV(SVD, param_grid, measures=[\"rmse\"], cv=5, n_jobs=-1, joblib_verbose=3)\n",
    "gs.fit(data)\n",
    "print(gs.best_score[\"rmse\"])\n",
    "print(gs.best_params)"
   ]
  },
  {
   "cell_type": "code",
   "execution_count": 6,
   "metadata": {},
   "outputs": [
    {
     "data": {
      "text/plain": [
       "<surprise.prediction_algorithms.matrix_factorization.SVD at 0x11a01be50>"
      ]
     },
     "execution_count": 6,
     "metadata": {},
     "output_type": "execute_result"
    }
   ],
   "source": [
    "from surprise import SVD\n",
    "\n",
    "svd = SVD(n_factors=200, n_epochs=500, lr_all=0.001, reg_all=0.185, biased=False)\n",
    "svd.fit(all_train)"
   ]
  },
  {
   "cell_type": "code",
   "execution_count": 15,
   "metadata": {},
   "outputs": [],
   "source": [
    "import pandas as pd\n",
    "\n",
    "predictions = pd.DataFrame({}, columns=[\"Id\", \"rating\"])\n",
    "\n",
    "for Id, (user_id, item_id) in enumerate(X.values):\n",
    "    predictions.loc[-1] = [Id, svd.predict(user_id, item_id).est]\n",
    "    predictions.index = predictions.index + 1\n",
    "predictions = predictions.set_index(\"Id\").sort_index()\n",
    "predictions.index = predictions.index.astype(int)\n",
    "predictions.to_csv(\"svd.csv\")"
   ]
  },
  {
   "cell_type": "code",
   "execution_count": 1,
   "metadata": {},
   "outputs": [
    {
     "ename": "NameError",
     "evalue": "name 'predictions' is not defined",
     "output_type": "error",
     "traceback": [
      "\u001b[0;31m---------------------------------------------------------------------------\u001b[0m",
      "\u001b[0;31mNameError\u001b[0m                                 Traceback (most recent call last)",
      "\u001b[1;32m/Users/borisleung/Desktop/STAT3009/project/svd.ipynb Cell 5\u001b[0m line \u001b[0;36m1\n\u001b[0;32m----> <a href='vscode-notebook-cell:/Users/borisleung/Desktop/STAT3009/project/svd.ipynb#W4sZmlsZQ%3D%3D?line=0'>1</a>\u001b[0m predictions\n",
      "\u001b[0;31mNameError\u001b[0m: name 'predictions' is not defined"
     ]
    }
   ],
   "source": [
    "predictions"
   ]
  }
 ],
 "metadata": {
  "kernelspec": {
   "display_name": "stat3009",
   "language": "python",
   "name": "python3"
  },
  "language_info": {
   "codemirror_mode": {
    "name": "ipython",
    "version": 3
   },
   "file_extension": ".py",
   "mimetype": "text/x-python",
   "name": "python",
   "nbconvert_exporter": "python",
   "pygments_lexer": "ipython3",
   "version": "3.10.12"
  }
 },
 "nbformat": 4,
 "nbformat_minor": 2
}
