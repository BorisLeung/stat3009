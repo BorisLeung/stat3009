{
 "cells": [
  {
   "cell_type": "code",
   "execution_count": 1,
   "metadata": {},
   "outputs": [],
   "source": [
    "import pandas as pd\n",
    "from surprise import Dataset, Reader\n",
    "\n",
    "import os\n",
    "\n",
    "DATA_DIR = \"data\"\n",
    "train_data = pd.read_csv(os.path.join(DATA_DIR, \"train.csv\"))\n",
    "X = pd.read_csv(os.path.join(DATA_DIR, \"test.csv\"))\n",
    "\n",
    "reader = Reader(rating_scale=(0, 10))\n",
    "data = Dataset.load_from_df(train_data, reader)\n",
    "all_train = data.build_full_trainset()"
   ]
  },
  {
   "cell_type": "code",
   "execution_count": 4,
   "metadata": {},
   "outputs": [
    {
     "name": "stderr",
     "output_type": "stream",
     "text": [
      "[Parallel(n_jobs=-1)]: Using backend LokyBackend with 8 concurrent workers.\n",
      "[Parallel(n_jobs=-1)]: Done  16 tasks      | elapsed:    3.5s\n",
      "[Parallel(n_jobs=-1)]: Done 112 tasks      | elapsed:   33.9s\n",
      "[Parallel(n_jobs=-1)]: Done 272 tasks      | elapsed:  1.5min\n",
      "[Parallel(n_jobs=-1)]: Done 496 tasks      | elapsed:  3.1min\n",
      "[Parallel(n_jobs=-1)]: Done 784 tasks      | elapsed:  5.4min\n",
      "[Parallel(n_jobs=-1)]: Done 1136 tasks      | elapsed:  7.7min\n",
      "[Parallel(n_jobs=-1)]: Done 1552 tasks      | elapsed: 10.0min\n",
      "[Parallel(n_jobs=-1)]: Done 2032 tasks      | elapsed: 13.1min\n",
      "[Parallel(n_jobs=-1)]: Done 2576 tasks      | elapsed: 16.6min\n",
      "[Parallel(n_jobs=-1)]: Done 3184 tasks      | elapsed: 20.3min\n",
      "[Parallel(n_jobs=-1)]: Done 3856 tasks      | elapsed: 24.8min\n",
      "[Parallel(n_jobs=-1)]: Done 4000 out of 4000 | elapsed: 25.5min finished\n"
     ]
    },
    {
     "name": "stdout",
     "output_type": "stream",
     "text": [
      "0.6796295109284051\n",
      "{'rmse': {'n_factors': 1, 'n_epochs': 250, 'biased': True, 'lr_all': 0.05623413251903491, 'reg_all': 0.03162277660168379, 'reg_bu': 0, 'reg_bi': 0}}\n"
     ]
    }
   ],
   "source": [
    "from cv_logs import ParameterSearch, save_model\n",
    "from predict import predict\n",
    "\n",
    "from surprise import SVD\n",
    "from surprise.model_selection import RandomizedSearchCV\n",
    "import numpy as np\n",
    "\n",
    "ITERATION = 1000\n",
    "FOLD = 4\n",
    "param_grid = {\n",
    "    \"n_factors\": np.arange(1, 151, 1),\n",
    "    \"n_epochs\": np.arange(50, 301, 50),\n",
    "    \"biased\": [True, False],\n",
    "    \"lr_all\": 10 ** (np.arange(-5, 0, 0.25)),\n",
    "    \"reg_all\": 10 ** (np.arange(-5, 0, 0.25)),\n",
    "    \"reg_bu\": [0],\n",
    "    \"reg_bi\": [0],\n",
    "}\n",
    "gs = RandomizedSearchCV(\n",
    "    SVD,\n",
    "    param_grid,\n",
    "    measures=[\"rmse\"],\n",
    "    cv=FOLDS,\n",
    "    n_jobs=-1,\n",
    "    n_iter=ITERATION,\n",
    "    joblib_verbose=3,\n",
    ")\n",
    "gs.fit(data)\n",
    "ps = ParameterSearch(gs.cv_results)\n",
    "ps.write(f\"svd-cv{FOLD}.csv\")\n",
    "print(gs.best_score[\"rmse\"])\n",
    "print(gs.best_params)\n",
    "svd_1 = SVD(**gs.best_params[\"rmse\"]).fit(all_train)\n",
    "\n",
    "# Public score:\n",
    "predict(svd_1, f\"svd-cv{FOLD}.csv\")\n",
    "save_model(svd_1, f\"svd-cv{FOLD}\")"
   ]
  },
  {
   "cell_type": "code",
   "execution_count": 5,
   "metadata": {},
   "outputs": [
    {
     "name": "stderr",
     "output_type": "stream",
     "text": [
      "[Parallel(n_jobs=-1)]: Using backend LokyBackend with 8 concurrent workers.\n",
      "[Parallel(n_jobs=-1)]: Done  16 tasks      | elapsed:    3.0s\n",
      "[Parallel(n_jobs=-1)]: Done 112 tasks      | elapsed:   17.4s\n",
      "[Parallel(n_jobs=-1)]: Done 272 tasks      | elapsed:   50.4s\n",
      "[Parallel(n_jobs=-1)]: Done 496 tasks      | elapsed:  1.6min\n",
      "[Parallel(n_jobs=-1)]: Done 784 tasks      | elapsed:  2.8min\n",
      "[Parallel(n_jobs=-1)]: Done 1136 tasks      | elapsed:  4.4min\n",
      "[Parallel(n_jobs=-1)]: Done 1552 tasks      | elapsed:  6.2min\n",
      "[Parallel(n_jobs=-1)]: Done 2000 out of 2000 | elapsed:  8.2min finished\n"
     ]
    },
    {
     "ename": "NameError",
     "evalue": "name 'FOLD' is not defined",
     "output_type": "error",
     "traceback": [
      "\u001b[0;31m---------------------------------------------------------------------------\u001b[0m",
      "\u001b[0;31mNameError\u001b[0m                                 Traceback (most recent call last)",
      "\u001b[1;32m/Users/boris/Desktop/stat3009-1/project/svd_cv.ipynb Cell 3\u001b[0m line \u001b[0;36m3\n\u001b[1;32m     <a href='vscode-notebook-cell:/Users/boris/Desktop/stat3009-1/project/svd_cv.ipynb#W2sZmlsZQ%3D%3D?line=27'>28</a>\u001b[0m gs\u001b[39m.\u001b[39mfit(data)\n\u001b[1;32m     <a href='vscode-notebook-cell:/Users/boris/Desktop/stat3009-1/project/svd_cv.ipynb#W2sZmlsZQ%3D%3D?line=28'>29</a>\u001b[0m ps \u001b[39m=\u001b[39m ParameterSearch(gs\u001b[39m.\u001b[39mcv_results)\n\u001b[0;32m---> <a href='vscode-notebook-cell:/Users/boris/Desktop/stat3009-1/project/svd_cv.ipynb#W2sZmlsZQ%3D%3D?line=29'>30</a>\u001b[0m ps\u001b[39m.\u001b[39mwrite(\u001b[39mf\u001b[39m\u001b[39m\"\u001b[39m\u001b[39msvd-cv\u001b[39m\u001b[39m{\u001b[39;00mFOLD\u001b[39m}\u001b[39;00m\u001b[39m.csv\u001b[39m\u001b[39m\"\u001b[39m)\n\u001b[1;32m     <a href='vscode-notebook-cell:/Users/boris/Desktop/stat3009-1/project/svd_cv.ipynb#W2sZmlsZQ%3D%3D?line=30'>31</a>\u001b[0m \u001b[39mprint\u001b[39m(gs\u001b[39m.\u001b[39mbest_score[\u001b[39m\"\u001b[39m\u001b[39mrmse\u001b[39m\u001b[39m\"\u001b[39m])\n\u001b[1;32m     <a href='vscode-notebook-cell:/Users/boris/Desktop/stat3009-1/project/svd_cv.ipynb#W2sZmlsZQ%3D%3D?line=31'>32</a>\u001b[0m \u001b[39mprint\u001b[39m(gs\u001b[39m.\u001b[39mbest_params)\n",
      "\u001b[0;31mNameError\u001b[0m: name 'FOLD' is not defined"
     ]
    }
   ],
   "source": [
    "from cv_logs import ParameterSearch, save_model\n",
    "from predict import predict\n",
    "\n",
    "from surprise import SVD\n",
    "from surprise.model_selection import RandomizedSearchCV\n",
    "import numpy as np\n",
    "\n",
    "ITERATION = 1000\n",
    "FOLD = 2\n",
    "param_grid = {\n",
    "    \"n_factors\": np.arange(1, 151, 1),\n",
    "    \"n_epochs\": np.arange(50, 301, 50),\n",
    "    \"biased\": [True, False],\n",
    "    \"lr_all\": 10 ** (np.arange(-5, 0, 0.25)),\n",
    "    \"reg_all\": 10 ** (np.arange(-5, 0, 0.25)),\n",
    "    \"reg_bu\": [0],\n",
    "    \"reg_bi\": [0],\n",
    "}\n",
    "gs = RandomizedSearchCV(\n",
    "    SVD,\n",
    "    param_grid,\n",
    "    measures=[\"rmse\"],\n",
    "    cv=FOLDS,\n",
    "    n_jobs=-1,\n",
    "    n_iter=ITERATION,\n",
    "    joblib_verbose=3,\n",
    ")\n",
    "gs.fit(data)\n",
    "ps = ParameterSearch(gs.cv_results)\n",
    "ps.write(f\"svd-cv{FOLD}.csv\")\n",
    "print(gs.best_score[\"rmse\"])\n",
    "print(gs.best_params)\n",
    "svd_1 = SVD(**gs.best_params[\"rmse\"]).fit(all_train)\n",
    "\n",
    "# Public score:\n",
    "predict(svd_1, f\"svd-cv{FOLD}.csv\")\n",
    "save_model(svd_1, f\"svd-cv{FOLD}\")"
   ]
  },
  {
   "cell_type": "code",
   "execution_count": 6,
   "metadata": {},
   "outputs": [
    {
     "name": "stdout",
     "output_type": "stream",
     "text": [
      "0.7423703763963339\n",
      "{'rmse': {'n_factors': 1, 'n_epochs': 250, 'biased': False, 'lr_all': 0.03162277660168379, 'reg_all': 0.005623413251903491, 'reg_bu': 0, 'reg_bi': 0}}\n"
     ]
    }
   ],
   "source": [
    "FOLD = 2\n",
    "ps.write(f\"svd-cv{FOLD}.csv\")\n",
    "print(gs.best_score[\"rmse\"])\n",
    "print(gs.best_params)\n",
    "svd_1 = SVD(**gs.best_params[\"rmse\"]).fit(all_train)\n",
    "\n",
    "# Public score:\n",
    "predict(svd_1, f\"svd-cv{FOLD}.csv\")\n",
    "save_model(svd_1, f\"svd-cv{FOLD}\")"
   ]
  }
 ],
 "metadata": {
  "kernelspec": {
   "display_name": "stat30092",
   "language": "python",
   "name": "python3"
  },
  "language_info": {
   "codemirror_mode": {
    "name": "ipython",
    "version": 3
   },
   "file_extension": ".py",
   "mimetype": "text/x-python",
   "name": "python",
   "nbconvert_exporter": "python",
   "pygments_lexer": "ipython3",
   "version": "3.12.0"
  }
 },
 "nbformat": 4,
 "nbformat_minor": 2
}
