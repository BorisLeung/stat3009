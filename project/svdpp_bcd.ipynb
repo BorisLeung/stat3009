{
 "cells": [
  {
   "cell_type": "code",
   "execution_count": 3,
   "metadata": {},
   "outputs": [],
   "source": [
    "import pandas as pd\n",
    "from surprise import Dataset, Reader\n",
    "from surprise.prediction_algorithms.matrix_factorization import SVDpp\n",
    "\n",
    "import os\n",
    "\n",
    "DATA_DIR = \"data\"\n",
    "train_data = pd.read_csv(os.path.join(DATA_DIR, \"train.csv\"))\n",
    "X = pd.read_csv(os.path.join(DATA_DIR, \"test.csv\"))\n",
    "\n",
    "reader = Reader(rating_scale=(0, 10))\n",
    "data = Dataset.load_from_df(train_data, reader)\n",
    "full_train_data = data.build_full_trainset()"
   ]
  },
  {
   "cell_type": "code",
   "execution_count": 4,
   "metadata": {},
   "outputs": [
    {
     "name": "stderr",
     "output_type": "stream",
     "text": [
      "[Parallel(n_jobs=-1)]: Using backend LokyBackend with 12 concurrent workers.\n",
      "[Parallel(n_jobs=-1)]: Done  48 tasks      | elapsed:   29.6s\n",
      "[Parallel(n_jobs=-1)]: Done 138 tasks      | elapsed:  2.5min\n",
      "[Parallel(n_jobs=-1)]: Done 264 tasks      | elapsed:  7.4min\n",
      "[Parallel(n_jobs=-1)]: Done 426 tasks      | elapsed: 18.2min\n"
     ]
    },
    {
     "name": "stdout",
     "output_type": "stream",
     "text": [
      "0.6862497170793826\n",
      "{'n_factors': 1, 'cache_ratings': 'True', 'n_epochs': 1500, 'lr_all': 0.0063095734448019684, 'reg_all': 0.10000000000000082, 'reg_bu': 0, 'reg_bi': 0}\n"
     ]
    },
    {
     "name": "stderr",
     "output_type": "stream",
     "text": [
      "[Parallel(n_jobs=-1)]: Done 597 out of 597 | elapsed: 34.4min finished\n"
     ]
    }
   ],
   "source": [
    "from cv_logs import ParameterSearch, save_model\n",
    "from predict import predict\n",
    "\n",
    "import numpy as np\n",
    "from surprise.model_selection import GridSearchCV\n",
    "\n",
    "FOLD = 3\n",
    "# Find best n_factor\n",
    "# best: 1\n",
    "ROUND = 1\n",
    "\n",
    "param_grid = {\n",
    "    \"n_factors\": np.arange(1, 200),\n",
    "    \"cache_ratings\": [\"True\"],\n",
    "    \"n_epochs\": [1500],\n",
    "    \"lr_all\": [0.0063095734448019684],\n",
    "    \"reg_all\": [0.10000000000000082],\n",
    "    \"reg_bu\": [0],\n",
    "    \"reg_bi\": [0],\n",
    "}\n",
    "rs = GridSearchCV(\n",
    "    SVDpp,\n",
    "    param_grid,\n",
    "    measures=[\"rmse\"],\n",
    "    cv=FOLD,\n",
    "    n_jobs=-1,\n",
    "    joblib_verbose=5,\n",
    ")\n",
    "rs.fit(data)\n",
    "ps = ParameterSearch(rs.cv_results)\n",
    "ps.write(f\"SVDpp-bcd{ROUND}.csv\")\n",
    "print(rs.best_score[\"rmse\"])\n",
    "print(rs.best_params[\"rmse\"])\n",
    "best_n = SVDpp(**rs.best_params[\"rmse\"]).fit(full_train_data)\n",
    "# public score: 0.66082 -> Best so far\n",
    "predict(best_n, f\"SVDpp_bcd{ROUND}.csv\")\n",
    "save_model(best_n, f\"SVDpp-bcd{ROUND}\")"
   ]
  },
  {
   "cell_type": "code",
   "execution_count": 9,
   "metadata": {},
   "outputs": [
    {
     "name": "stderr",
     "output_type": "stream",
     "text": [
      "[Parallel(n_jobs=-1)]: Using backend LokyBackend with 12 concurrent workers.\n",
      "[Parallel(n_jobs=-1)]: Done  48 tasks      | elapsed:    0.9s\n",
      "[Parallel(n_jobs=-1)]: Done 138 tasks      | elapsed:    2.5s\n",
      "[Parallel(n_jobs=-1)]: Done 264 tasks      | elapsed:    5.5s\n",
      "[Parallel(n_jobs=-1)]: Done 426 tasks      | elapsed:   11.4s\n",
      "[Parallel(n_jobs=-1)]: Done 624 tasks      | elapsed:   20.4s\n",
      "[Parallel(n_jobs=-1)]: Done 858 tasks      | elapsed:   33.9s\n",
      "[Parallel(n_jobs=-1)]: Done 1128 tasks      | elapsed:   52.9s\n",
      "[Parallel(n_jobs=-1)]: Done 1434 tasks      | elapsed:  1.3min\n",
      "[Parallel(n_jobs=-1)]: Done 1776 tasks      | elapsed:  1.9min\n",
      "[Parallel(n_jobs=-1)]: Done 2154 tasks      | elapsed:  2.8min\n",
      "[Parallel(n_jobs=-1)]: Done 2568 tasks      | elapsed:  3.8min\n",
      "[Parallel(n_jobs=-1)]: Done 3018 tasks      | elapsed:  5.2min\n",
      "[Parallel(n_jobs=-1)]: Done 3504 tasks      | elapsed:  6.9min\n",
      "[Parallel(n_jobs=-1)]: Done 4026 tasks      | elapsed:  8.9min\n",
      "[Parallel(n_jobs=-1)]: Done 4584 tasks      | elapsed: 11.5min\n",
      "[Parallel(n_jobs=-1)]: Done 5178 tasks      | elapsed: 14.5min\n",
      "[Parallel(n_jobs=-1)]: Done 5808 tasks      | elapsed: 18.2min\n",
      "[Parallel(n_jobs=-1)]: Done 5997 out of 5997 | elapsed: 19.4min finished\n"
     ]
    },
    {
     "name": "stdout",
     "output_type": "stream",
     "text": [
      "0.6913403248287664\n",
      "{'n_factors': 1, 'cache_ratings': 'True', 'n_epochs': 641, 'lr_all': 0.0063095734448019684, 'reg_all': 0.10000000000000082, 'reg_bu': 0, 'reg_bi': 0}\n"
     ]
    }
   ],
   "source": [
    "# find best n_epochs\n",
    "# best: 641\n",
    "ROUND = 2\n",
    "\n",
    "param_grid = {\n",
    "    \"n_factors\": [1],\n",
    "    \"cache_ratings\": [\"True\"],\n",
    "    \"n_epochs\": np.arange(1, 2000),\n",
    "    \"lr_all\": [0.0063095734448019684],\n",
    "    \"reg_all\": [0.10000000000000082],\n",
    "    \"reg_bu\": [0],\n",
    "    \"reg_bi\": [0],\n",
    "}\n",
    "rs = GridSearchCV(\n",
    "    SVDpp,\n",
    "    param_grid,\n",
    "    measures=[\"rmse\"],\n",
    "    cv=FOLD,\n",
    "    n_jobs=-1,\n",
    "    joblib_verbose=5,\n",
    ")\n",
    "rs.fit(data)\n",
    "ps = ParameterSearch(rs.cv_results)\n",
    "model_name = f\"SVDpp-bcd{ROUND}\"\n",
    "ps.write(f\"{model_name}.csv\")\n",
    "print(rs.best_score[\"rmse\"])\n",
    "print(rs.best_params[\"rmse\"])\n",
    "best_n = SVDpp(**rs.best_params[\"rmse\"]).fit(full_train_data)\n",
    "# Public score: 0.66031 -> Higher test RMSE but lower public score ??\n",
    "predict(best_n, f\"{model_name}.csv\")\n",
    "save_model(best_n, model_name)"
   ]
  },
  {
   "cell_type": "code",
   "execution_count": 10,
   "metadata": {},
   "outputs": [
    {
     "name": "stderr",
     "output_type": "stream",
     "text": [
      "[Parallel(n_jobs=-1)]: Using backend LokyBackend with 12 concurrent workers.\n",
      "[Parallel(n_jobs=-1)]: Done  48 tasks      | elapsed:    8.2s\n",
      "[Parallel(n_jobs=-1)]: Done 138 tasks      | elapsed:   21.9s\n",
      "[Parallel(n_jobs=-1)]: Done 264 tasks      | elapsed:   39.1s\n",
      "[Parallel(n_jobs=-1)]: Done 300 out of 300 | elapsed:   43.8s finished\n"
     ]
    },
    {
     "name": "stdout",
     "output_type": "stream",
     "text": [
      "0.685283643383678\n",
      "{'n_factors': 1, 'cache_ratings': 'True', 'n_epochs': 641, 'lr_all': 0.009000000000000001, 'reg_all': 0.10000000000000082, 'reg_bu': 0, 'reg_bi': 0}\n"
     ]
    }
   ],
   "source": [
    "# find best lr_all\n",
    "# best: 0.009000000000000001\n",
    "ROUND = 3\n",
    "\n",
    "param_grid = {\n",
    "    \"n_factors\": [1],\n",
    "    \"cache_ratings\": [\"True\"],\n",
    "    \"n_epochs\": [641],\n",
    "    \"lr_all\": np.arange(0.001, 0.101, 0.001),\n",
    "    \"reg_all\": [0.10000000000000082],\n",
    "    \"reg_bu\": [0],\n",
    "    \"reg_bi\": [0],\n",
    "}\n",
    "rs = GridSearchCV(\n",
    "    SVDpp,\n",
    "    param_grid,\n",
    "    measures=[\"rmse\"],\n",
    "    cv=FOLD,\n",
    "    n_jobs=-1,\n",
    "    joblib_verbose=5,\n",
    ")\n",
    "rs.fit(data)\n",
    "ps = ParameterSearch(rs.cv_results)\n",
    "model_name = f\"SVDpp-bcd{ROUND}\"\n",
    "ps.write(f\"{model_name}.csv\")\n",
    "print(rs.best_score[\"rmse\"])\n",
    "print(rs.best_params[\"rmse\"])\n",
    "best_n = SVDpp(**rs.best_params[\"rmse\"]).fit(full_train_data)\n",
    "# Public score: 0.66096 -> Higher\n",
    "predict(best_n, f\"{model_name}.csv\")\n",
    "save_model(best_n, model_name)"
   ]
  },
  {
   "cell_type": "code",
   "execution_count": 11,
   "metadata": {},
   "outputs": [
    {
     "name": "stderr",
     "output_type": "stream",
     "text": [
      "[Parallel(n_jobs=-1)]: Using backend LokyBackend with 12 concurrent workers.\n",
      "[Parallel(n_jobs=-1)]: Done  48 tasks      | elapsed:    7.6s\n",
      "[Parallel(n_jobs=-1)]: Done 138 tasks      | elapsed:   20.9s\n",
      "[Parallel(n_jobs=-1)]: Done 264 tasks      | elapsed:   37.8s\n",
      "[Parallel(n_jobs=-1)]: Done 426 tasks      | elapsed:  1.0min\n",
      "[Parallel(n_jobs=-1)]: Done 624 tasks      | elapsed:  1.5min\n",
      "[Parallel(n_jobs=-1)]: Done 858 tasks      | elapsed:  2.1min\n",
      "[Parallel(n_jobs=-1)]: Done 1128 tasks      | elapsed:  2.7min\n",
      "[Parallel(n_jobs=-1)]: Done 1434 tasks      | elapsed:  3.4min\n",
      "[Parallel(n_jobs=-1)]: Done 1776 tasks      | elapsed:  4.1min\n",
      "[Parallel(n_jobs=-1)]: Done 2154 tasks      | elapsed:  4.9min\n",
      "[Parallel(n_jobs=-1)]: Done 2568 tasks      | elapsed:  5.8min\n",
      "[Parallel(n_jobs=-1)]: Done 2970 out of 2970 | elapsed:  6.6min finished\n"
     ]
    },
    {
     "name": "stdout",
     "output_type": "stream",
     "text": [
      "0.689529886902589\n",
      "{'n_factors': 1, 'cache_ratings': 'True', 'n_epochs': 641, 'lr_all': 0.009000000000000001, 'reg_all': 0.06, 'reg_bu': 0, 'reg_bi': 0}\n"
     ]
    }
   ],
   "source": [
    "# find best reg_all\n",
    "# best: 0.06\n",
    "ROUND = 4\n",
    "\n",
    "param_grid = {\n",
    "    \"n_factors\": [1],\n",
    "    \"cache_ratings\": [\"True\"],\n",
    "    \"n_epochs\": [641],\n",
    "    \"lr_all\": [0.009000000000000001],\n",
    "    \"reg_all\": np.arange(0.001, 0.991, 0.001),\n",
    "    \"reg_bu\": [0],\n",
    "    \"reg_bi\": [0],\n",
    "}\n",
    "rs = GridSearchCV(\n",
    "    SVDpp,\n",
    "    param_grid,\n",
    "    measures=[\"rmse\"],\n",
    "    cv=FOLD,\n",
    "    n_jobs=-1,\n",
    "    joblib_verbose=5,\n",
    ")\n",
    "rs.fit(data)\n",
    "ps = ParameterSearch(rs.cv_results)\n",
    "model_name = f\"SVDpp-bcd{ROUND}\"\n",
    "ps.write(f\"{model_name}.csv\")\n",
    "print(rs.best_score[\"rmse\"])\n",
    "print(rs.best_params[\"rmse\"])\n",
    "best_n = SVDpp(**rs.best_params[\"rmse\"]).fit(full_train_data)\n",
    "# Public score: 0.65893 -> Improvement, finally lower than 0.66\n",
    "predict(best_n, f\"{model_name}.csv\")\n",
    "save_model(best_n, model_name)"
   ]
  },
  {
   "cell_type": "code",
   "execution_count": 12,
   "metadata": {},
   "outputs": [
    {
     "name": "stderr",
     "output_type": "stream",
     "text": [
      "[Parallel(n_jobs=-1)]: Using backend LokyBackend with 12 concurrent workers.\n",
      "[Parallel(n_jobs=-1)]: Done  48 tasks      | elapsed:    7.8s\n",
      "[Parallel(n_jobs=-1)]: Done 138 tasks      | elapsed:   20.2s\n",
      "[Parallel(n_jobs=-1)]: Done 264 tasks      | elapsed:   33.8s\n",
      "[Parallel(n_jobs=-1)]: Done 426 tasks      | elapsed:   56.4s\n",
      "[Parallel(n_jobs=-1)]: Done 624 tasks      | elapsed:  1.4min\n",
      "[Parallel(n_jobs=-1)]: Done 858 tasks      | elapsed:  2.9min\n",
      "[Parallel(n_jobs=-1)]: Done 1128 tasks      | elapsed:  5.4min\n",
      "[Parallel(n_jobs=-1)]: Done 1434 tasks      | elapsed:  8.9min\n",
      "[Parallel(n_jobs=-1)]: Done 1776 tasks      | elapsed: 13.2min\n",
      "[Parallel(n_jobs=-1)]: Done 1875 out of 1875 | elapsed: 14.5min finished\n"
     ]
    },
    {
     "name": "stdout",
     "output_type": "stream",
     "text": [
      "0.6810640884676071\n",
      "{'n_factors': 1, 'cache_ratings': 'True', 'n_epochs': 461, 'lr_all': 0.004, 'reg_all': 0.057, 'reg_bu': 0, 'reg_bi': 0}\n"
     ]
    }
   ],
   "source": [
    "# from top 5 of all previous step -> GridSearch\n",
    "# 5^4 rounds = 625\n",
    "ROUND = 5\n",
    "\n",
    "param_grid = {\n",
    "    \"n_factors\": [1, 2, 42, 56, 55],\n",
    "    \"cache_ratings\": [\"True\"],\n",
    "    \"n_epochs\": [641, 560, 461, 499, 612],\n",
    "    \"lr_all\": [0.009, 0.007, 0.008, 0.004, 0.011],\n",
    "    \"reg_all\": [0.06, 0.059, 0.057, 0.066, 0.053],\n",
    "    \"reg_bu\": [0],\n",
    "    \"reg_bi\": [0],\n",
    "}\n",
    "rs = GridSearchCV(\n",
    "    SVDpp,\n",
    "    param_grid,\n",
    "    measures=[\"rmse\"],\n",
    "    cv=FOLD,\n",
    "    n_jobs=-1,\n",
    "    joblib_verbose=5,\n",
    ")\n",
    "rs.fit(data)\n",
    "ps = ParameterSearch(rs.cv_results)\n",
    "model_name = f\"SVDpp-bcd{ROUND}\"\n",
    "ps.write(f\"{model_name}.csv\")\n",
    "print(rs.best_score[\"rmse\"])\n",
    "print(rs.best_params[\"rmse\"])\n",
    "best_n = SVDpp(**rs.best_params[\"rmse\"]).fit(full_train_data)\n",
    "# Public score:\n",
    "predict(best_n, f\"{model_name}.csv\")\n",
    "save_model(best_n, model_name)"
   ]
  },
  {
   "cell_type": "code",
   "execution_count": null,
   "metadata": {},
   "outputs": [],
   "source": [
    "# n_factors -> Consistently with 1\n",
    "# conclude best n_factors = 1\n",
    "ROUND = 6\n",
    "pass"
   ]
  },
  {
   "cell_type": "code",
   "execution_count": 13,
   "metadata": {},
   "outputs": [
    {
     "name": "stderr",
     "output_type": "stream",
     "text": [
      "[Parallel(n_jobs=-1)]: Using backend LokyBackend with 12 concurrent workers.\n",
      "[Parallel(n_jobs=-1)]: Done  48 tasks      | elapsed:    1.4s\n",
      "[Parallel(n_jobs=-1)]: Done 138 tasks      | elapsed:    3.2s\n",
      "[Parallel(n_jobs=-1)]: Done 264 tasks      | elapsed:    6.9s\n",
      "[Parallel(n_jobs=-1)]: Done 426 tasks      | elapsed:   12.8s\n",
      "[Parallel(n_jobs=-1)]: Done 624 tasks      | elapsed:   22.2s\n",
      "[Parallel(n_jobs=-1)]: Done 858 tasks      | elapsed:   37.0s\n",
      "[Parallel(n_jobs=-1)]: Done 1128 tasks      | elapsed:   58.0s\n",
      "[Parallel(n_jobs=-1)]: Done 1434 tasks      | elapsed:  1.5min\n",
      "[Parallel(n_jobs=-1)]: Done 1776 tasks      | elapsed:  2.1min\n",
      "[Parallel(n_jobs=-1)]: Done 2154 tasks      | elapsed:  2.9min\n",
      "[Parallel(n_jobs=-1)]: Done 2568 tasks      | elapsed:  3.9min\n",
      "[Parallel(n_jobs=-1)]: Done 3018 tasks      | elapsed:  5.3min\n",
      "[Parallel(n_jobs=-1)]: Done 3504 tasks      | elapsed:  7.0min\n",
      "[Parallel(n_jobs=-1)]: Done 4026 tasks      | elapsed:  9.0min\n",
      "[Parallel(n_jobs=-1)]: Done 4584 tasks      | elapsed: 11.5min\n",
      "[Parallel(n_jobs=-1)]: Done 5178 tasks      | elapsed: 14.6min\n",
      "[Parallel(n_jobs=-1)]: Done 5808 tasks      | elapsed: 18.2min\n",
      "[Parallel(n_jobs=-1)]: Done 6474 tasks      | elapsed: 22.4min\n",
      "[Parallel(n_jobs=-1)]: Done 7176 tasks      | elapsed: 27.4min\n",
      "[Parallel(n_jobs=-1)]: Done 7914 tasks      | elapsed: 33.1min\n",
      "[Parallel(n_jobs=-1)]: Done 8688 tasks      | elapsed: 39.7min\n",
      "[Parallel(n_jobs=-1)]: Done 8997 out of 8997 | elapsed: 42.5min finished\n"
     ]
    },
    {
     "name": "stdout",
     "output_type": "stream",
     "text": [
      "0.6885794095967649\n",
      "{'n_factors': 1, 'cache_ratings': 'True', 'n_epochs': 584, 'lr_all': 0.004, 'reg_all': 0.057, 'reg_bu': 0, 'reg_bi': 0}\n"
     ]
    }
   ],
   "source": [
    "# find best n_epochs\n",
    "# best: 584\n",
    "ROUND = 7\n",
    "\n",
    "param_grid = {\n",
    "    \"n_factors\": [1],\n",
    "    \"cache_ratings\": [\"True\"],\n",
    "    \"n_epochs\": np.arange(1, 3000),\n",
    "    \"lr_all\": [0.004],\n",
    "    \"reg_all\": [0.057],\n",
    "    \"reg_bu\": [0],\n",
    "    \"reg_bi\": [0],\n",
    "}\n",
    "rs = GridSearchCV(\n",
    "    SVDpp,\n",
    "    param_grid,\n",
    "    measures=[\"rmse\"],\n",
    "    cv=FOLD,\n",
    "    n_jobs=-1,\n",
    "    joblib_verbose=5,\n",
    ")\n",
    "rs.fit(data)\n",
    "ps = ParameterSearch(rs.cv_results)\n",
    "model_name = f\"SVDpp-bcd{ROUND}\"\n",
    "ps.write(f\"{model_name}.csv\")\n",
    "print(rs.best_score[\"rmse\"])\n",
    "print(rs.best_params[\"rmse\"])\n",
    "best_n = SVDpp(**rs.best_params[\"rmse\"]).fit(full_train_data)\n",
    "# Public score:\n",
    "predict(best_n, f\"{model_name}.csv\")\n",
    "save_model(best_n, model_name)"
   ]
  },
  {
   "cell_type": "code",
   "execution_count": 16,
   "metadata": {},
   "outputs": [
    {
     "name": "stderr",
     "output_type": "stream",
     "text": [
      "[Parallel(n_jobs=-1)]: Using backend LokyBackend with 12 concurrent workers.\n",
      "[Parallel(n_jobs=-1)]: Done  48 tasks      | elapsed:    6.3s\n",
      "[Parallel(n_jobs=-1)]: Done 138 tasks      | elapsed:   17.2s\n",
      "[Parallel(n_jobs=-1)]: Done 264 tasks      | elapsed:   31.4s\n",
      "[Parallel(n_jobs=-1)]: Done 426 tasks      | elapsed:   50.4s\n",
      "[Parallel(n_jobs=-1)]: Done 624 tasks      | elapsed:  1.2min\n",
      "[Parallel(n_jobs=-1)]: Done 858 tasks      | elapsed:  1.7min\n",
      "[Parallel(n_jobs=-1)]: Done 1128 tasks      | elapsed:  2.2min\n",
      "[Parallel(n_jobs=-1)]: Done 1200 out of 1200 | elapsed:  2.3min finished\n"
     ]
    },
    {
     "name": "stdout",
     "output_type": "stream",
     "text": [
      "0.6900425508617829\n",
      "{'n_factors': 1, 'cache_ratings': 'True', 'n_epochs': 584, 'lr_all': 0.009000000000000001, 'reg_all': 0.057, 'reg_bu': 0, 'reg_bi': 0}\n"
     ]
    }
   ],
   "source": [
    "# find best lr_all\n",
    "# best: 0.009 -> same as last time\n",
    "ROUND = 8\n",
    "\n",
    "param_grid = {\n",
    "    \"n_factors\": [1],\n",
    "    \"cache_ratings\": [\"True\"],\n",
    "    \"n_epochs\": [584],\n",
    "    \"lr_all\": np.arange(0.001, 0.101, 0.00025),\n",
    "    \"reg_all\": [0.057],\n",
    "    \"reg_bu\": [0],\n",
    "    \"reg_bi\": [0],\n",
    "}\n",
    "rs = GridSearchCV(\n",
    "    SVDpp,\n",
    "    param_grid,\n",
    "    measures=[\"rmse\"],\n",
    "    cv=FOLD,\n",
    "    n_jobs=-1,\n",
    "    joblib_verbose=5,\n",
    ")\n",
    "rs.fit(data)\n",
    "ps = ParameterSearch(rs.cv_results)\n",
    "model_name = f\"SVDpp-bcd{ROUND}\"\n",
    "ps.write(f\"{model_name}.csv\")\n",
    "print(rs.best_score[\"rmse\"])\n",
    "print(rs.best_params[\"rmse\"])\n",
    "best_n = SVDpp(**rs.best_params[\"rmse\"]).fit(full_train_data)\n",
    "# Public score:\n",
    "predict(best_n, f\"{model_name}.csv\")\n",
    "save_model(best_n, model_name)"
   ]
  },
  {
   "cell_type": "code",
   "execution_count": 18,
   "metadata": {},
   "outputs": [
    {
     "name": "stderr",
     "output_type": "stream",
     "text": [
      "[Parallel(n_jobs=-1)]: Using backend LokyBackend with 12 concurrent workers.\n",
      "[Parallel(n_jobs=-1)]: Done  48 tasks      | elapsed:    6.3s\n",
      "[Parallel(n_jobs=-1)]: Done 138 tasks      | elapsed:   17.5s\n",
      "[Parallel(n_jobs=-1)]: Done 264 tasks      | elapsed:   32.0s\n",
      "[Parallel(n_jobs=-1)]: Done 426 tasks      | elapsed:   50.7s\n",
      "[Parallel(n_jobs=-1)]: Done 624 tasks      | elapsed:  1.2min\n",
      "[Parallel(n_jobs=-1)]: Done 858 tasks      | elapsed:  1.7min\n",
      "[Parallel(n_jobs=-1)]: Done 1128 tasks      | elapsed:  2.2min\n",
      "[Parallel(n_jobs=-1)]: Done 1434 tasks      | elapsed:  2.8min\n",
      "[Parallel(n_jobs=-1)]: Done 1776 tasks      | elapsed:  3.4min\n",
      "[Parallel(n_jobs=-1)]: Done 2154 tasks      | elapsed:  4.2min\n",
      "[Parallel(n_jobs=-1)]: Done 2568 tasks      | elapsed:  5.0min\n",
      "[Parallel(n_jobs=-1)]: Done 3018 tasks      | elapsed:  5.8min\n",
      "[Parallel(n_jobs=-1)]: Done 3504 tasks      | elapsed:  6.8min\n",
      "[Parallel(n_jobs=-1)]: Done 4026 tasks      | elapsed:  7.8min\n",
      "[Parallel(n_jobs=-1)]: Done 4584 tasks      | elapsed:  8.9min\n",
      "[Parallel(n_jobs=-1)]: Done 5178 tasks      | elapsed: 10.0min\n",
      "[Parallel(n_jobs=-1)]: Done 5808 tasks      | elapsed: 11.2min\n",
      "[Parallel(n_jobs=-1)]: Done 6474 tasks      | elapsed: 12.5min\n",
      "[Parallel(n_jobs=-1)]: Done 7176 tasks      | elapsed: 13.9min\n",
      "[Parallel(n_jobs=-1)]: Done 7914 tasks      | elapsed: 15.3min\n",
      "[Parallel(n_jobs=-1)]: Done 8688 tasks      | elapsed: 16.7min\n",
      "[Parallel(n_jobs=-1)]: Done 9498 tasks      | elapsed: 18.3min\n",
      "[Parallel(n_jobs=-1)]: Done 10344 tasks      | elapsed: 19.9min\n",
      "[Parallel(n_jobs=-1)]: Done 11226 tasks      | elapsed: 21.6min\n",
      "[Parallel(n_jobs=-1)]: Done 12144 tasks      | elapsed: 23.3min\n",
      "[Parallel(n_jobs=-1)]: Done 13098 tasks      | elapsed: 25.1min\n",
      "[Parallel(n_jobs=-1)]: Done 14088 tasks      | elapsed: 27.0min\n",
      "[Parallel(n_jobs=-1)]: Done 15114 tasks      | elapsed: 29.0min\n",
      "[Parallel(n_jobs=-1)]: Done 16176 tasks      | elapsed: 31.0min\n",
      "[Parallel(n_jobs=-1)]: Done 17274 tasks      | elapsed: 33.1min\n",
      "[Parallel(n_jobs=-1)]: Done 17988 out of 17988 | elapsed: 34.5min finished\n"
     ]
    },
    {
     "name": "stdout",
     "output_type": "stream",
     "text": [
      "0.6892550074157593\n",
      "{'n_factors': 1, 'cache_ratings': 'True', 'n_epochs': 584, 'lr_all': 0.009, 'reg_all': 0.0655, 'reg_bu': 0, 'reg_bi': 0}\n"
     ]
    }
   ],
   "source": [
    "# find best reg_all\n",
    "# best: 0.0655\n",
    "ROUND = 9\n",
    "\n",
    "param_grid = {\n",
    "    \"n_factors\": [1],\n",
    "    \"cache_ratings\": [\"True\"],\n",
    "    \"n_epochs\": [584],\n",
    "    \"lr_all\": [0.009],\n",
    "    \"reg_all\": np.arange(0.001, 1.5, 0.00025),\n",
    "    \"reg_bu\": [0],\n",
    "    \"reg_bi\": [0],\n",
    "}\n",
    "rs = GridSearchCV(\n",
    "    SVDpp,\n",
    "    param_grid,\n",
    "    measures=[\"rmse\"],\n",
    "    cv=FOLD,\n",
    "    n_jobs=-1,\n",
    "    joblib_verbose=5,\n",
    ")\n",
    "rs.fit(data)\n",
    "ps = ParameterSearch(rs.cv_results)\n",
    "model_name = f\"SVDpp-bcd{ROUND}\"\n",
    "ps.write(f\"{model_name}.csv\")\n",
    "print(rs.best_score[\"rmse\"])\n",
    "print(rs.best_params[\"rmse\"])\n",
    "best_n = SVDpp(**rs.best_params[\"rmse\"]).fit(full_train_data)\n",
    "# Public score:\n",
    "predict(best_n, f\"{model_name}.csv\")\n",
    "save_model(best_n, model_name)"
   ]
  },
  {
   "cell_type": "code",
   "execution_count": 19,
   "metadata": {},
   "outputs": [
    {
     "name": "stderr",
     "output_type": "stream",
     "text": [
      "[Parallel(n_jobs=-1)]: Using backend LokyBackend with 12 concurrent workers.\n",
      "[Parallel(n_jobs=-1)]: Done  48 tasks      | elapsed:    6.3s\n",
      "[Parallel(n_jobs=-1)]: Done 138 tasks      | elapsed:   19.2s\n",
      "[Parallel(n_jobs=-1)]: Done 264 tasks      | elapsed:   35.0s\n",
      "[Parallel(n_jobs=-1)]: Done 375 out of 375 | elapsed:   48.2s finished\n"
     ]
    },
    {
     "name": "stdout",
     "output_type": "stream",
     "text": [
      "0.6900472311890717\n",
      "{'n_factors': 1, 'cache_ratings': 'True', 'n_epochs': 584, 'lr_all': 0.005, 'reg_all': 0.064, 'reg_bu': 0, 'reg_bi': 0}\n"
     ]
    }
   ],
   "source": [
    "# find from top 5 of all params\n",
    "ROUND = 10\n",
    "\n",
    "param_grid = {\n",
    "    \"n_factors\": [1],\n",
    "    \"cache_ratings\": [\"True\"],\n",
    "    \"n_epochs\": [584, 752, 675, 623, 591],\n",
    "    \"lr_all\": [0.009, 0.00875, 0.01125, 0.005, 0.00825],\n",
    "    \"reg_all\": [0.0655, 0.064, 0.06225, 0.06375, 0.074],\n",
    "    \"reg_bu\": [0],\n",
    "    \"reg_bi\": [0],\n",
    "}\n",
    "rs = GridSearchCV(\n",
    "    SVDpp,\n",
    "    param_grid,\n",
    "    measures=[\"rmse\"],\n",
    "    cv=FOLD,\n",
    "    n_jobs=-1,\n",
    "    joblib_verbose=5,\n",
    ")\n",
    "rs.fit(data)\n",
    "ps = ParameterSearch(rs.cv_results)\n",
    "model_name = f\"SVDpp-bcd{ROUND}\"\n",
    "ps.write(f\"{model_name}.csv\")\n",
    "print(rs.best_score[\"rmse\"])\n",
    "print(rs.best_params[\"rmse\"])\n",
    "best_n = SVDpp(**rs.best_params[\"rmse\"]).fit(full_train_data)\n",
    "# Public score:\n",
    "predict(best_n, f\"{model_name}.csv\")\n",
    "save_model(best_n, model_name)"
   ]
  }
 ],
 "metadata": {
  "kernelspec": {
   "display_name": "stat3009",
   "language": "python",
   "name": "python3"
  },
  "language_info": {
   "codemirror_mode": {
    "name": "ipython",
    "version": 3
   },
   "file_extension": ".py",
   "mimetype": "text/x-python",
   "name": "python",
   "nbconvert_exporter": "python",
   "pygments_lexer": "ipython3",
   "version": "3.10.12"
  }
 },
 "nbformat": 4,
 "nbformat_minor": 2
}
