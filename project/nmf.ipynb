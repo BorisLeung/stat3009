{
 "cells": [
  {
   "cell_type": "code",
   "execution_count": 1,
   "metadata": {},
   "outputs": [],
   "source": [
    "import pandas as pd\n",
    "from surprise import Dataset, Reader\n",
    "\n",
    "import os\n",
    "\n",
    "DATA_DIR = \"data\"\n",
    "train_data = pd.read_csv(os.path.join(DATA_DIR, \"train.csv\"))\n",
    "X = pd.read_csv(os.path.join(DATA_DIR, \"test.csv\"))\n",
    "\n",
    "reader = Reader(rating_scale=(0, 10))\n",
    "data = Dataset.load_from_df(train_data, reader)"
   ]
  },
  {
   "cell_type": "code",
   "execution_count": 22,
   "metadata": {},
   "outputs": [
    {
     "name": "stderr",
     "output_type": "stream",
     "text": [
      "[Parallel(n_jobs=-1)]: Using backend LokyBackend with 8 concurrent workers.\n",
      "[Parallel(n_jobs=-1)]: Done   2 tasks      | elapsed:    0.8s\n",
      "[Parallel(n_jobs=-1)]: Done  56 tasks      | elapsed:    5.7s\n",
      "[Parallel(n_jobs=-1)]: Done 146 tasks      | elapsed:   16.6s\n",
      "[Parallel(n_jobs=-1)]: Done 272 tasks      | elapsed:   32.9s\n"
     ]
    },
    {
     "name": "stdout",
     "output_type": "stream",
     "text": [
      "0.6948359414428594\n",
      "{'rmse': {'n_epochs': 50, 'n_factors': 17, 'biased': False, 'reg_pu': 0.03162277660168379, 'reg_qi': 0.31622776601683794, 'reg_bu': 3.1622776601683795e-05, 'reg_bi': 0.1, 'lr_bu': 0.0001, 'lr_bi': 3.1622776601683795e-05}}\n"
     ]
    },
    {
     "name": "stderr",
     "output_type": "stream",
     "text": [
      "[Parallel(n_jobs=-1)]: Done 400 out of 400 | elapsed:   51.6s finished\n"
     ]
    }
   ],
   "source": [
    "import numpy as np\n",
    "from surprise import NMF\n",
    "from surprise.model_selection import RandomizedSearchCV, GridSearchCV\n",
    "\n",
    "reg_range = list(10 ** (np.arange(-5, 0, 0.5)))\n",
    "param_grid = {\n",
    "    # \"n_epochs\": np.arange(25, 500, 25),\n",
    "    # \"n_factors\": np.arange(1, 100, 2),\n",
    "    \"n_epochs\": [50],\n",
    "    \"n_factors\": [17],\n",
    "    \"biased\": [False],\n",
    "    \"reg_pu\": [0.03162277660168379],\n",
    "    \"reg_qi\": [0.31622776601683794],\n",
    "    \"reg_bu\": [3.1622776601683795e-05],\n",
    "    \"reg_bi\": [0.1],\n",
    "    \"lr_bu\": [0.0001],\n",
    "    \"lr_bi\": [3.1622776601683795e-05],\n",
    "    # \"init_low\": [0, 0.1, 0.2, 0.3],\n",
    "    # \"init_high\": [0.8, 0.9, 1, 1.2, 1.5, 2, 5],\n",
    "}\n",
    "\n",
    "rs2 = GridSearchCV(\n",
    "    NMF, param_grid, measures=[\"rmse\"], cv=4, n_jobs=-1, joblib_verbose=5\n",
    ")\n",
    "rs2.fit(data)\n",
    "print(rs2.best_score[\"rmse\"])\n",
    "print(rs2.best_params)"
   ]
  },
  {
   "cell_type": "code",
   "execution_count": 24,
   "metadata": {},
   "outputs": [
    {
     "name": "stderr",
     "output_type": "stream",
     "text": [
      "[Parallel(n_jobs=-1)]: Using backend LokyBackend with 8 concurrent workers.\n",
      "[Parallel(n_jobs=-1)]: Done   2 tasks      | elapsed:    1.8s\n",
      "[Parallel(n_jobs=-1)]: Done  56 tasks      | elapsed:   11.9s\n",
      "[Parallel(n_jobs=-1)]: Done 146 tasks      | elapsed:   29.8s\n",
      "[Parallel(n_jobs=-1)]: Done 272 tasks      | elapsed:   58.1s\n",
      "[Parallel(n_jobs=-1)]: Done 434 tasks      | elapsed:  1.6min\n",
      "[Parallel(n_jobs=-1)]: Done 632 tasks      | elapsed:  2.3min\n",
      "[Parallel(n_jobs=-1)]: Done 866 tasks      | elapsed:  3.4min\n",
      "[Parallel(n_jobs=-1)]: Done 1136 tasks      | elapsed:  4.3min\n",
      "[Parallel(n_jobs=-1)]: Done 1442 tasks      | elapsed:  5.3min\n",
      "[Parallel(n_jobs=-1)]: Done 1784 tasks      | elapsed:  6.3min\n",
      "[Parallel(n_jobs=-1)]: Done 2162 tasks      | elapsed:  7.4min\n",
      "[Parallel(n_jobs=-1)]: Done 2576 tasks      | elapsed:  8.7min\n",
      "[Parallel(n_jobs=-1)]: Done 3026 tasks      | elapsed:  9.9min\n",
      "[Parallel(n_jobs=-1)]: Done 3512 tasks      | elapsed: 11.3min\n"
     ]
    },
    {
     "name": "stdout",
     "output_type": "stream",
     "text": [
      "0.6948359414428594\n",
      "{'rmse': {'n_epochs': 50, 'n_factors': 17, 'biased': False, 'reg_pu': 0.03162277660168379, 'reg_qi': 0.31622776601683794, 'reg_bu': 3.1622776601683795e-05, 'reg_bi': 0.1, 'lr_bu': 0.0001, 'lr_bi': 3.1622776601683795e-05}}\n"
     ]
    },
    {
     "name": "stderr",
     "output_type": "stream",
     "text": [
      "[Parallel(n_jobs=-1)]: Done 4000 out of 4000 | elapsed: 12.9min finished\n"
     ]
    }
   ],
   "source": [
    "import numpy as np\n",
    "import scipy.stats as st\n",
    "from surprise import NMF\n",
    "from surprise.model_selection import RandomizedSearchCV, GridSearchCV\n",
    "\n",
    "param_grid = {\n",
    "    \"n_epochs\": [50],\n",
    "    \"n_factors\": [1, 2, 17, 50, 100],\n",
    "    \"biased\": [False],\n",
    "    \"reg_pu\": st.norm(0.03162277660168379, 0.01),\n",
    "    \"reg_qi\": st.norm(0.31622776601683794, 0.1),\n",
    "    \"reg_bu\": st.norm(3.1622776601683795e-05, 1e-5),\n",
    "    \"reg_bi\": st.norm(0.1, 0.0333),\n",
    "    \"lr_bu\": st.norm(0.0001, 0.00003333),\n",
    "    \"lr_bi\": st.norm(3.1622776601683795e-05, 1e-05),\n",
    "    # \"init_low\": [0, 0.1, 0.2, 0.3],\n",
    "    # \"init_high\": [0.8, 0.9, 1, 1.2, 1.5, 2, 5],\n",
    "}\n",
    "\n",
    "rs3 = RandomizedSearchCV(\n",
    "    NMF, param_grid, measures=[\"rmse\"], cv=4, n_jobs=-1, joblib_verbose=5, n_iter=1000\n",
    ")\n",
    "rs3.fit(data)"
   ]
  },
  {
   "cell_type": "code",
   "execution_count": 25,
   "metadata": {},
   "outputs": [
    {
     "name": "stdout",
     "output_type": "stream",
     "text": [
      "0.6810504625281086\n",
      "{'rmse': {'biased': False, 'lr_bi': 1.8372587422887998e-05, 'lr_bu': 8.204276919366751e-05, 'n_epochs': 50, 'n_factors': 100, 'reg_bi': 0.025999804510939015, 'reg_bu': 3.5090782977079864e-05, 'reg_pu': 0.036103747378787965, 'reg_qi': 0.29092834001020496}}\n"
     ]
    }
   ],
   "source": [
    "print(rs3.best_score[\"rmse\"])\n",
    "print(rs3.best_params)"
   ]
  },
  {
   "cell_type": "code",
   "execution_count": 30,
   "metadata": {},
   "outputs": [
    {
     "name": "stderr",
     "output_type": "stream",
     "text": [
      "[Parallel(n_jobs=-1)]: Using backend LokyBackend with 8 concurrent workers.\n",
      "[Parallel(n_jobs=-1)]: Done   2 tasks      | elapsed:    3.8s\n",
      "[Parallel(n_jobs=-1)]: Done  56 tasks      | elapsed:   30.3s\n",
      "[Parallel(n_jobs=-1)]: Done 146 tasks      | elapsed:  1.5min\n",
      "[Parallel(n_jobs=-1)]: Done 272 tasks      | elapsed:  2.7min\n",
      "[Parallel(n_jobs=-1)]: Done 434 tasks      | elapsed:  4.3min\n",
      "[Parallel(n_jobs=-1)]: Done 632 tasks      | elapsed:  6.2min\n",
      "[Parallel(n_jobs=-1)]: Done 866 tasks      | elapsed:  8.1min\n",
      "[Parallel(n_jobs=-1)]: Done 1136 tasks      | elapsed: 10.2min\n",
      "[Parallel(n_jobs=-1)]: Done 1442 tasks      | elapsed: 12.5min\n",
      "[Parallel(n_jobs=-1)]: Done 1784 tasks      | elapsed: 15.2min\n",
      "[Parallel(n_jobs=-1)]: Done 2162 tasks      | elapsed: 18.1min\n",
      "[Parallel(n_jobs=-1)]: Done 2576 tasks      | elapsed: 21.3min\n",
      "[Parallel(n_jobs=-1)]: Done 3026 tasks      | elapsed: 24.8min\n",
      "[Parallel(n_jobs=-1)]: Done 3512 tasks      | elapsed: 28.6min\n"
     ]
    },
    {
     "name": "stdout",
     "output_type": "stream",
     "text": [
      "0.6753898816370278\n",
      "{'rmse': {'biased': False, 'n_epochs': 50, 'n_factors': 140, 'reg_pu': 0.02648205778119174, 'reg_qi': 0.41705140795558326}}\n"
     ]
    },
    {
     "name": "stderr",
     "output_type": "stream",
     "text": [
      "[Parallel(n_jobs=-1)]: Done 4000 out of 4000 | elapsed: 64.1min finished\n"
     ]
    }
   ],
   "source": [
    "import numpy as np\n",
    "import scipy.stats as st\n",
    "from surprise import NMF\n",
    "from surprise.model_selection import RandomizedSearchCV, GridSearchCV\n",
    "\n",
    "param_grid = {\n",
    "    \"n_epochs\": [50],\n",
    "    \"n_factors\": np.linspace(50, 150, 11).astype(int),\n",
    "    \"biased\": [False],\n",
    "    \"reg_pu\": st.norm(0.036103747378787965, 0.01),\n",
    "    \"reg_qi\": st.norm(0.29092834001020496, 0.1),\n",
    "    # \"reg_bu\": st.norm(3.1622776601683795e-05, 1e-5),\n",
    "    # \"reg_bi\": st.norm(0.1 ,0.0333),\n",
    "    # \"lr_bu\": st.norm(0.0001, 0.00003333),\n",
    "    # \"lr_bi\": st.norm(3.1622776601683795e-05, 1e-05),\n",
    "    # \"init_low\": [0, 0.1, 0.2, 0.3],\n",
    "    # \"init_high\": [0.8, 0.9, 1, 1.2, 1.5, 2, 5],\n",
    "}\n",
    "\n",
    "rs4 = RandomizedSearchCV(\n",
    "    NMF, param_grid, measures=[\"rmse\"], cv=4, n_jobs=-1, joblib_verbose=5, n_iter=1000\n",
    ")\n",
    "rs4.fit(data)\n",
    "print(rs4.best_score[\"rmse\"])\n",
    "print(rs4.best_params)"
   ]
  },
  {
   "cell_type": "code",
   "execution_count": 31,
   "metadata": {},
   "outputs": [
    {
     "name": "stderr",
     "output_type": "stream",
     "text": [
      "[Parallel(n_jobs=-1)]: Using backend LokyBackend with 8 concurrent workers.\n",
      "[Parallel(n_jobs=-1)]: Done   2 tasks      | elapsed:    1.4s\n",
      "[Parallel(n_jobs=-1)]: Done  56 tasks      | elapsed:    4.7s\n",
      "[Parallel(n_jobs=-1)]: Done 146 tasks      | elapsed:   22.0s\n",
      "[Parallel(n_jobs=-1)]: Done 272 tasks      | elapsed:  1.4min\n",
      "[Parallel(n_jobs=-1)]: Done 434 tasks      | elapsed:  4.4min\n",
      "[Parallel(n_jobs=-1)]: Done 632 tasks      | elapsed:  9.6min\n",
      "[Parallel(n_jobs=-1)]: Done 866 tasks      | elapsed: 17.9min\n",
      "[Parallel(n_jobs=-1)]: Done 1136 tasks      | elapsed: 31.1min\n"
     ]
    },
    {
     "name": "stdout",
     "output_type": "stream",
     "text": [
      "0.6779387393164802\n",
      "{'rmse': {'n_epochs': 52, 'n_factors': 140, 'biased': False, 'reg_pu': 0.02648205778119174, 'reg_qi': 0.41705140795558326}}\n"
     ]
    },
    {
     "name": "stderr",
     "output_type": "stream",
     "text": [
      "[Parallel(n_jobs=-1)]: Done 1196 out of 1196 | elapsed: 96.3min finished\n"
     ]
    }
   ],
   "source": [
    "import numpy as np\n",
    "import scipy.stats as st\n",
    "from surprise import NMF\n",
    "from surprise.model_selection import RandomizedSearchCV, GridSearchCV\n",
    "\n",
    "param_grid = {\n",
    "    \"n_epochs\": np.arange(1, 300),\n",
    "    \"n_factors\": [140],\n",
    "    \"biased\": [False],\n",
    "    \"reg_pu\": [0.02648205778119174],\n",
    "    \"reg_qi\": [0.41705140795558326],\n",
    "    # \"reg_bu\": st.norm(3.1622776601683795e-05, 1e-5),\n",
    "    # \"reg_bi\": st.norm(0.1 ,0.0333),\n",
    "    # \"lr_bu\": st.norm(0.0001, 0.00003333),\n",
    "    # \"lr_bi\": st.norm(3.1622776601683795e-05, 1e-05),\n",
    "    # \"init_low\": [0, 0.1, 0.2, 0.3],\n",
    "    # \"init_high\": [0.8, 0.9, 1, 1.2, 1.5, 2, 5],\n",
    "}\n",
    "\n",
    "rs5 = GridSearchCV(\n",
    "    NMF, param_grid, measures=[\"rmse\"], cv=4, n_jobs=-1, joblib_verbose=5\n",
    ")\n",
    "rs5.fit(data)\n",
    "print(rs5.best_score[\"rmse\"])\n",
    "print(rs5.best_params)"
   ]
  },
  {
   "cell_type": "code",
   "execution_count": 32,
   "metadata": {},
   "outputs": [],
   "source": [
    "nmf = NMF(**{'n_epochs': 52, 'n_factors': 140, 'biased': False, 'reg_pu': 0.02648205778119174, 'reg_qi': 0.41705140795558326})\n",
    "nmf.fit(data.build_full_trainset())\n",
    "from predict import predict\n",
    "predict(nmf,  \"nmf.csv\")"
   ]
  }
 ],
 "metadata": {
  "kernelspec": {
   "display_name": "stat3009",
   "language": "python",
   "name": "python3"
  },
  "language_info": {
   "codemirror_mode": {
    "name": "ipython",
    "version": 3
   },
   "file_extension": ".py",
   "mimetype": "text/x-python",
   "name": "python",
   "nbconvert_exporter": "python",
   "pygments_lexer": "ipython3",
   "version": "3.12.0"
  }
 },
 "nbformat": 4,
 "nbformat_minor": 2
}
