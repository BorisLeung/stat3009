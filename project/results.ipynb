{
 "cells": [
  {
   "cell_type": "code",
   "execution_count": 1,
   "metadata": {},
   "outputs": [],
   "source": [
    "import pandas as pd\n",
    "from surprise import Dataset, Reader\n",
    "from surprise.prediction_algorithms.matrix_factorization import SVDpp\n",
    "\n",
    "import os\n",
    "\n",
    "DATA_DIR = \"data\"\n",
    "train_data = pd.read_csv(os.path.join(DATA_DIR, \"train.csv\"))\n",
    "X = pd.read_csv(os.path.join(DATA_DIR, \"test.csv\"))\n",
    "\n",
    "reader = Reader(rating_scale=(0, 10))\n",
    "data = Dataset.load_from_df(train_data, reader)\n",
    "full_train_data = data.build_full_trainset()"
   ]
  },
  {
   "cell_type": "code",
   "execution_count": 2,
   "metadata": {},
   "outputs": [],
   "source": [
    "from cv_logs import load_model\n",
    "\n",
    "model = load_model(\"SVDpp_evo(2)_(pq2)\")"
   ]
  },
  {
   "cell_type": "code",
   "execution_count": 11,
   "metadata": {},
   "outputs": [
    {
     "name": "stdout",
     "output_type": "stream",
     "text": [
      "user_id, item_id:       user_id  item_id\n",
      "559      469       76 pred_rating:  5.124596521528925\n"
     ]
    }
   ],
   "source": [
    "SID = 560\n",
    "prediction = pd.read_csv(\"predictions/SVDpp_evo(2)_(pq2).csv\", usecols=[\"Id\", \"rating\"])\n",
    "test = pd.read_csv(\"data/test.csv\")\n",
    "\n",
    "print(\n",
    "    \"user_id, item_id: \",\n",
    "    test[test.index == SID - 1],\n",
    "    \"pred_rating: \",\n",
    "    prediction[\"rating\"][SID - 1],\n",
    ")"
   ]
  },
  {
   "cell_type": "code",
   "execution_count": 12,
   "metadata": {},
   "outputs": [
    {
     "name": "stdout",
     "output_type": "stream",
     "text": [
      "[425 295 679 473 664]\n"
     ]
    }
   ],
   "source": [
    "import numpy as np\n",
    "\n",
    "pred_item_rating = np.zeros(798)\n",
    "\n",
    "for i in range(798):\n",
    "    pred_item_rating[i] = model.predict(469, i + 1).est\n",
    "# +1 is added since the index starts from 0.\n",
    "print(np.argsort(pred_item_rating)[-5:] + 1)"
   ]
  }
 ],
 "metadata": {
  "kernelspec": {
   "display_name": "stat3009",
   "language": "python",
   "name": "python3"
  },
  "language_info": {
   "codemirror_mode": {
    "name": "ipython",
    "version": 3
   },
   "file_extension": ".py",
   "mimetype": "text/x-python",
   "name": "python",
   "nbconvert_exporter": "python",
   "pygments_lexer": "ipython3",
   "version": "3.10.12"
  }
 },
 "nbformat": 4,
 "nbformat_minor": 2
}
