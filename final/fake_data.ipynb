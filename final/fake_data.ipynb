{
 "cells": [
  {
   "cell_type": "code",
   "execution_count": 1,
   "metadata": {},
   "outputs": [],
   "source": [
    "import numpy as np\n",
    "import pandas as pd"
   ]
  },
  {
   "cell_type": "code",
   "execution_count": 24,
   "metadata": {},
   "outputs": [
    {
     "name": "stdout",
     "output_type": "stream",
     "text": [
      "user_dim=10, item_dim=7, is_range=5\n",
      "f[0.67198588 0.29576218 0.52831005 0.89829115 0.34665218]\n"
     ]
    }
   ],
   "source": [
    "import random\n",
    "\n",
    "num_user = 600\n",
    "num_item = 1000\n",
    "user_dim = random.randint(2, 10)\n",
    "item_dim = random.randint(2, 10)\n",
    "is_range = random.randint(3, 6)\n",
    "is_dict = np.random.random(is_range)\n",
    "print(f\"{user_dim=}, {item_dim=}, {is_range=}\")\n",
    "print(f\"{is_dict}\")"
   ]
  },
  {
   "cell_type": "code",
   "execution_count": 29,
   "metadata": {},
   "outputs": [],
   "source": [
    "multipliers = np.random.random(4)"
   ]
  },
  {
   "cell_type": "code",
   "execution_count": 25,
   "metadata": {},
   "outputs": [
    {
     "name": "stdout",
     "output_type": "stream",
     "text": [
      "u=array([0.28135906, 0.20752037, 0.32728962, 0.74666038, 0.26535119,\n",
      "       0.06450621, 0.75289941, 0.64379335, 0.82444148, 0.48471891]), us=array([0.68883409, 0.48935575, 0.90730867, 0.51565162, 0.99445842,\n",
      "       0.46564106, 0.17557296, 0.3682905 , 0.97204727, 0.79454891]), i=array([0.13965554, 0.13579684, 0.80622216, 0.55018796, 0.25431392,\n",
      "       0.55087856, 0.59439258]), is_=1\n"
     ]
    }
   ],
   "source": [
    "u = np.random.random(user_dim)\n",
    "us = np.random.random(10)\n",
    "i = np.random.random(item_dim)\n",
    "is_ = random.randint(0, is_range)\n",
    "print(f\"{u=}, {us=}, {i=}, {is_=}\")"
   ]
  },
  {
   "cell_type": "code",
   "execution_count": 28,
   "metadata": {},
   "outputs": [],
   "source": [
    "# generate users and items\n",
    "all_users = np.random.random((num_user, user_dim))\n",
    "all_items = np.random.random((num_item, item_dim))\n",
    "all_user_side = np.random.random((num_user, 10))\n",
    "all_item_side = np.random.randint(0, is_range, (num_item,))"
   ]
  },
  {
   "cell_type": "code",
   "execution_count": 27,
   "metadata": {},
   "outputs": [
    {
     "name": "stdout",
     "output_type": "stream",
     "text": [
      "9.403156834137247\n"
     ]
    }
   ],
   "source": [
    "import itertools\n",
    "\n",
    "\n",
    "def f(u: np.array, i: np.array):\n",
    "    min_size = min(u.size, i.size)\n",
    "    return np.dot(u[:min_size], i[:min_size]) + u[min_size:].sum() + i[min_size:].sum()\n",
    "\n",
    "\n",
    "def g(u: np.array, us: np.array):\n",
    "    result = 0\n",
    "    for u_element, us_element in itertools.product(u, us):\n",
    "        result += u_element * us_element\n",
    "    return result\n",
    "\n",
    "\n",
    "def gamma(i: np.array, is_: int):\n",
    "    return is_dict[is_] * i.sum()\n",
    "\n",
    "\n",
    "def lambda_(us: np.array, i: np.array):\n",
    "    return us.sum() + i.sum()"
   ]
  },
  {
   "cell_type": "code",
   "execution_count": 54,
   "metadata": {},
   "outputs": [],
   "source": [
    "from sklearn.preprocessing import MinMaxScaler\n",
    "\n",
    "TOTAL_ROWS = 10000\n",
    "NOISE_STD = 0.2\n",
    "\n",
    "data = np.empty((0, 3))\n",
    "for i in range(TOTAL_ROWS):\n",
    "    user_id = random.randint(0, num_user - 1)\n",
    "    item_id = random.randint(0, num_item - 1)\n",
    "    u, us = all_users[user_id], all_user_side[user_id]\n",
    "    i, is_ = all_items[user_id], all_item_side[user_id]\n",
    "    rating = np.dot(\n",
    "        [f(u, i), g(u, us), gamma(i, is_), lambda_(us, i)], multipliers\n",
    "    ) + np.random.normal(scale=NOISE_STD)\n",
    "    data = np.vstack([data, [user_id, item_id, rating]])\n",
    "\n",
    "RATING_SCALE = (0, 5)\n",
    "data[:, 2] = (\n",
    "    MinMaxScaler(RATING_SCALE).fit_transform(data[:, 2].reshape(-1, 1)).flatten()\n",
    ")"
   ]
  },
  {
   "cell_type": "code",
   "execution_count": 58,
   "metadata": {},
   "outputs": [
    {
     "data": {
      "text/html": [
       "<div>\n",
       "<style scoped>\n",
       "    .dataframe tbody tr th:only-of-type {\n",
       "        vertical-align: middle;\n",
       "    }\n",
       "\n",
       "    .dataframe tbody tr th {\n",
       "        vertical-align: top;\n",
       "    }\n",
       "\n",
       "    .dataframe thead th {\n",
       "        text-align: right;\n",
       "    }\n",
       "</style>\n",
       "<table border=\"1\" class=\"dataframe\">\n",
       "  <thead>\n",
       "    <tr style=\"text-align: right;\">\n",
       "      <th></th>\n",
       "      <th>user_id</th>\n",
       "      <th>item_id</th>\n",
       "      <th>rating</th>\n",
       "    </tr>\n",
       "  </thead>\n",
       "  <tbody>\n",
       "    <tr>\n",
       "      <th>count</th>\n",
       "      <td>10000.000000</td>\n",
       "      <td>10000.000000</td>\n",
       "      <td>10000.000000</td>\n",
       "    </tr>\n",
       "    <tr>\n",
       "      <th>mean</th>\n",
       "      <td>297.130700</td>\n",
       "      <td>497.990800</td>\n",
       "      <td>2.368615</td>\n",
       "    </tr>\n",
       "    <tr>\n",
       "      <th>std</th>\n",
       "      <td>173.420571</td>\n",
       "      <td>290.448644</td>\n",
       "      <td>0.836733</td>\n",
       "    </tr>\n",
       "    <tr>\n",
       "      <th>min</th>\n",
       "      <td>0.000000</td>\n",
       "      <td>0.000000</td>\n",
       "      <td>0.000000</td>\n",
       "    </tr>\n",
       "    <tr>\n",
       "      <th>25%</th>\n",
       "      <td>145.000000</td>\n",
       "      <td>243.000000</td>\n",
       "      <td>1.795520</td>\n",
       "    </tr>\n",
       "    <tr>\n",
       "      <th>50%</th>\n",
       "      <td>295.000000</td>\n",
       "      <td>497.000000</td>\n",
       "      <td>2.324304</td>\n",
       "    </tr>\n",
       "    <tr>\n",
       "      <th>75%</th>\n",
       "      <td>447.250000</td>\n",
       "      <td>751.000000</td>\n",
       "      <td>2.884365</td>\n",
       "    </tr>\n",
       "    <tr>\n",
       "      <th>max</th>\n",
       "      <td>599.000000</td>\n",
       "      <td>999.000000</td>\n",
       "      <td>5.000000</td>\n",
       "    </tr>\n",
       "  </tbody>\n",
       "</table>\n",
       "</div>"
      ],
      "text/plain": [
       "            user_id       item_id        rating\n",
       "count  10000.000000  10000.000000  10000.000000\n",
       "mean     297.130700    497.990800      2.368615\n",
       "std      173.420571    290.448644      0.836733\n",
       "min        0.000000      0.000000      0.000000\n",
       "25%      145.000000    243.000000      1.795520\n",
       "50%      295.000000    497.000000      2.324304\n",
       "75%      447.250000    751.000000      2.884365\n",
       "max      599.000000    999.000000      5.000000"
      ]
     },
     "execution_count": 58,
     "metadata": {},
     "output_type": "execute_result"
    }
   ],
   "source": [
    "df = pd.DataFrame(data, columns=[\"user_id\", \"item_id\", \"rating\"]).astype(\n",
    "    dtype={\"user_id\": int, \"item_id\": int}\n",
    ")\n",
    "df.describe()"
   ]
  },
  {
   "cell_type": "code",
   "execution_count": 69,
   "metadata": {},
   "outputs": [],
   "source": [
    "import os\n",
    "\n",
    "OUTPUT_PATH = \"fake_data\"\n",
    "df.head(5000).to_csv(os.path.join(OUTPUT_PATH, \"train.csv\"), index=False)\n",
    "df.tail(5000).to_csv(os.path.join(OUTPUT_PATH, \"test.csv\"), index=False)\n",
    "pd.DataFrame(all_user_side, columns=[f\"V{i}\" for i in range(1, 11)]).to_csv(\n",
    "    os.path.join(OUTPUT_PATH, \"user_feats.csv\"), index_label=\"user_id\"\n",
    ")\n",
    "all_fake_item_side = np.random.randint(0, is_range, (num_item, 4))\n",
    "all_fake_item_side[:, random.randint(0, 3)] = all_item_side\n",
    "pd.DataFrame(all_fake_item_side, columns=[f\"V{i}\" for i in range(1, 5)]).to_csv(\n",
    "    os.path.join(OUTPUT_PATH, \"item_feats.csv\"), index_label=\"item_id\"\n",
    ")"
   ]
  }
 ],
 "metadata": {
  "kernelspec": {
   "display_name": "stat3009",
   "language": "python",
   "name": "python3"
  },
  "language_info": {
   "codemirror_mode": {
    "name": "ipython",
    "version": 3
   },
   "file_extension": ".py",
   "mimetype": "text/x-python",
   "name": "python",
   "nbconvert_exporter": "python",
   "pygments_lexer": "ipython3",
   "version": "3.10.13"
  }
 },
 "nbformat": 4,
 "nbformat_minor": 2
}
